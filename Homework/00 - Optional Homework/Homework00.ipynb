{
 "cells": [
  {
   "cell_type": "code",
   "execution_count": 2,
   "id": "771acf3d-3b65-4d6b-8c03-b824dd4c2e89",
   "metadata": {
    "tags": []
   },
   "outputs": [],
   "source": [
    "import pandas as pd"
   ]
  },
  {
   "cell_type": "code",
   "execution_count": 3,
   "id": "d6deb57f-9b3a-4f9c-b68e-7df2dffa1e5c",
   "metadata": {
    "tags": []
   },
   "outputs": [
    {
     "data": {
      "text/html": [
       "<div>\n",
       "<style scoped>\n",
       "    .dataframe tbody tr th:only-of-type {\n",
       "        vertical-align: middle;\n",
       "    }\n",
       "\n",
       "    .dataframe tbody tr th {\n",
       "        vertical-align: top;\n",
       "    }\n",
       "\n",
       "    .dataframe thead th {\n",
       "        text-align: right;\n",
       "    }\n",
       "</style>\n",
       "<table border=\"1\" class=\"dataframe\">\n",
       "  <thead>\n",
       "    <tr style=\"text-align: right;\">\n",
       "      <th></th>\n",
       "      <th>Unnamed: 0</th>\n",
       "      <th>Intent</th>\n",
       "      <th>Gender</th>\n",
       "      <th>Age</th>\n",
       "      <th>Race</th>\n",
       "      <th>Deaths</th>\n",
       "      <th>Population</th>\n",
       "      <th>Rate</th>\n",
       "    </tr>\n",
       "  </thead>\n",
       "  <tbody>\n",
       "    <tr>\n",
       "      <th>0</th>\n",
       "      <td>1</td>\n",
       "      <td>None selected</td>\n",
       "      <td>None selected</td>\n",
       "      <td>None selected</td>\n",
       "      <td>None selected</td>\n",
       "      <td>33599</td>\n",
       "      <td>316299978</td>\n",
       "      <td>10.6</td>\n",
       "    </tr>\n",
       "    <tr>\n",
       "      <th>1</th>\n",
       "      <td>2</td>\n",
       "      <td>None selected</td>\n",
       "      <td>None selected</td>\n",
       "      <td>None selected</td>\n",
       "      <td>White</td>\n",
       "      <td>22079</td>\n",
       "      <td>197369634</td>\n",
       "      <td>11.2</td>\n",
       "    </tr>\n",
       "    <tr>\n",
       "      <th>2</th>\n",
       "      <td>3</td>\n",
       "      <td>None selected</td>\n",
       "      <td>None selected</td>\n",
       "      <td>None selected</td>\n",
       "      <td>Black</td>\n",
       "      <td>7765</td>\n",
       "      <td>38896382</td>\n",
       "      <td>20.0</td>\n",
       "    </tr>\n",
       "    <tr>\n",
       "      <th>3</th>\n",
       "      <td>4</td>\n",
       "      <td>None selected</td>\n",
       "      <td>None selected</td>\n",
       "      <td>None selected</td>\n",
       "      <td>Hispanic</td>\n",
       "      <td>3007</td>\n",
       "      <td>54049078</td>\n",
       "      <td>5.6</td>\n",
       "    </tr>\n",
       "    <tr>\n",
       "      <th>4</th>\n",
       "      <td>5</td>\n",
       "      <td>None selected</td>\n",
       "      <td>None selected</td>\n",
       "      <td>None selected</td>\n",
       "      <td>Asian/Pacific Islander</td>\n",
       "      <td>442</td>\n",
       "      <td>16315561</td>\n",
       "      <td>2.7</td>\n",
       "    </tr>\n",
       "  </tbody>\n",
       "</table>\n",
       "</div>"
      ],
      "text/plain": [
       "   Unnamed: 0         Intent         Gender            Age  \\\n",
       "0           1  None selected  None selected  None selected   \n",
       "1           2  None selected  None selected  None selected   \n",
       "2           3  None selected  None selected  None selected   \n",
       "3           4  None selected  None selected  None selected   \n",
       "4           5  None selected  None selected  None selected   \n",
       "\n",
       "                     Race  Deaths  Population  Rate  \n",
       "0           None selected   33599   316299978  10.6  \n",
       "1                   White   22079   197369634  11.2  \n",
       "2                   Black    7765    38896382  20.0  \n",
       "3                Hispanic    3007    54049078   5.6  \n",
       "4  Asian/Pacific Islander     442    16315561   2.7  "
      ]
     },
     "execution_count": 3,
     "metadata": {},
     "output_type": "execute_result"
    }
   ],
   "source": [
    "df = pd.read_csv(\"https://raw.githubusercontent.com/fivethirtyeight/guns-data/master/interactive_data.csv\")\n",
    "df.head()"
   ]
  },
  {
   "cell_type": "code",
   "execution_count": 4,
   "id": "0da21982-c51e-4e03-b85b-73e3d2b48b49",
   "metadata": {
    "tags": []
   },
   "outputs": [
    {
     "data": {
      "text/html": [
       "<div>\n",
       "<style scoped>\n",
       "    .dataframe tbody tr th:only-of-type {\n",
       "        vertical-align: middle;\n",
       "    }\n",
       "\n",
       "    .dataframe tbody tr th {\n",
       "        vertical-align: top;\n",
       "    }\n",
       "\n",
       "    .dataframe thead th {\n",
       "        text-align: right;\n",
       "    }\n",
       "</style>\n",
       "<table border=\"1\" class=\"dataframe\">\n",
       "  <thead>\n",
       "    <tr style=\"text-align: right;\">\n",
       "      <th></th>\n",
       "      <th>Unnamed: 0</th>\n",
       "      <th>Intent</th>\n",
       "      <th>Gender</th>\n",
       "      <th>Age</th>\n",
       "      <th>Race</th>\n",
       "      <th>Deaths</th>\n",
       "      <th>Population</th>\n",
       "      <th>Rate</th>\n",
       "    </tr>\n",
       "  </thead>\n",
       "  <tbody>\n",
       "    <tr>\n",
       "      <th>151</th>\n",
       "      <td>152</td>\n",
       "      <td>Suicide</td>\n",
       "      <td>Female</td>\n",
       "      <td>Under 15</td>\n",
       "      <td>White</td>\n",
       "      <td>19</td>\n",
       "      <td>15355910</td>\n",
       "      <td>0.1</td>\n",
       "    </tr>\n",
       "    <tr>\n",
       "      <th>152</th>\n",
       "      <td>153</td>\n",
       "      <td>Suicide</td>\n",
       "      <td>Female</td>\n",
       "      <td>Under 15</td>\n",
       "      <td>Black</td>\n",
       "      <td>1</td>\n",
       "      <td>4095428</td>\n",
       "      <td>0.0</td>\n",
       "    </tr>\n",
       "    <tr>\n",
       "      <th>153</th>\n",
       "      <td>154</td>\n",
       "      <td>Suicide</td>\n",
       "      <td>Female</td>\n",
       "      <td>Under 15</td>\n",
       "      <td>Hispanic</td>\n",
       "      <td>4</td>\n",
       "      <td>7330024</td>\n",
       "      <td>0.1</td>\n",
       "    </tr>\n",
       "    <tr>\n",
       "      <th>154</th>\n",
       "      <td>155</td>\n",
       "      <td>Suicide</td>\n",
       "      <td>Female</td>\n",
       "      <td>Under 15</td>\n",
       "      <td>Asian/Pacific Islander</td>\n",
       "      <td>1</td>\n",
       "      <td>1393440</td>\n",
       "      <td>0.1</td>\n",
       "    </tr>\n",
       "    <tr>\n",
       "      <th>155</th>\n",
       "      <td>156</td>\n",
       "      <td>Suicide</td>\n",
       "      <td>Female</td>\n",
       "      <td>Under 15</td>\n",
       "      <td>Other</td>\n",
       "      <td>0</td>\n",
       "      <td>1661877</td>\n",
       "      <td>0.0</td>\n",
       "    </tr>\n",
       "  </tbody>\n",
       "</table>\n",
       "</div>"
      ],
      "text/plain": [
       "     Unnamed: 0   Intent  Gender       Age                    Race  Deaths  \\\n",
       "151         152  Suicide  Female  Under 15                   White      19   \n",
       "152         153  Suicide  Female  Under 15                   Black       1   \n",
       "153         154  Suicide  Female  Under 15                Hispanic       4   \n",
       "154         155  Suicide  Female  Under 15  Asian/Pacific Islander       1   \n",
       "155         156  Suicide  Female  Under 15                   Other       0   \n",
       "\n",
       "     Population  Rate  \n",
       "151    15355910   0.1  \n",
       "152     4095428   0.0  \n",
       "153     7330024   0.1  \n",
       "154     1393440   0.1  \n",
       "155     1661877   0.0  "
      ]
     },
     "execution_count": 4,
     "metadata": {},
     "output_type": "execute_result"
    }
   ],
   "source": [
    "df = df[~(df==\"None selected\").any(axis=1)]\n",
    "df.head()"
   ]
  },
  {
   "cell_type": "markdown",
   "id": "0da80cbf-8169-48ce-86cc-8f8f26119734",
   "metadata": {},
   "source": [
    "Nearly *two-thirds* of gun deaths are *suicides*."
   ]
  },
  {
   "cell_type": "code",
   "execution_count": 5,
   "id": "72931530-9dea-46d9-9ef9-7cdb03e49536",
   "metadata": {
    "tags": []
   },
   "outputs": [
    {
     "name": "stdout",
     "output_type": "stream",
     "text": [
      "Nearly 0.63 of the gunshot deaths are suicides\n"
     ]
    }
   ],
   "source": [
    "num_deaths = df[\"Deaths\"].sum()\n",
    "frac_intent = (df[df[\"Intent\"]==\"Suicide\"][\"Deaths\"]).sum() / num_deaths\n",
    "print(\"Nearly %.2f of the gunshot deaths are suicides\" % (frac_intent))"
   ]
  },
  {
   "cell_type": "markdown",
   "id": "7eba950b-089c-433c-be3f-793da98933b7",
   "metadata": {},
   "source": [
    "More than *85 percent* of suicide victims are *male*."
   ]
  },
  {
   "cell_type": "code",
   "execution_count": 6,
   "id": "c70a0482-2975-42df-b187-d2ab5626fe22",
   "metadata": {
    "tags": []
   },
   "outputs": [
    {
     "name": "stdout",
     "output_type": "stream",
     "text": [
      "More than 86 percent of suicide victims are male.\n"
     ]
    }
   ],
   "source": [
    "num_suicides = (df[df[\"Intent\"]==\"Suicide\"][\"Deaths\"]).sum()\n",
    "frac_male = 100 * (df[(df[\"Intent\"]==\"Suicide\") & (df[\"Gender\"]==\"Male\")][\"Deaths\"]).sum() / num_suicides\n",
    "print(\"More than %d percent of suicide victims are male.\" % (frac_male))"
   ]
  },
  {
   "cell_type": "markdown",
   "id": "dd969348-ae13-412c-a22b-93f75c234034",
   "metadata": {},
   "source": [
    "Around *a third* of all gun deaths are *homicides*."
   ]
  },
  {
   "cell_type": "code",
   "execution_count": 7,
   "id": "cd9c32e4-39a5-47ad-93a8-e270125bc4ec",
   "metadata": {
    "tags": []
   },
   "outputs": [
    {
     "name": "stdout",
     "output_type": "stream",
     "text": [
      "Around 0.35 of all gun deaths are homicides\n"
     ]
    }
   ],
   "source": [
    "frac_homicides = (df[df[\"Intent\"]==\"Homicide\"][\"Deaths\"]).sum() / num_deaths\n",
    "print(\"Around %.2f of all gun deaths are homicides\" % (frac_homicides))"
   ]
  },
  {
   "cell_type": "markdown",
   "id": "3c7fa4df-b8ef-44f6-8f9d-d38d01b79369",
   "metadata": {},
   "source": [
    "Around *two-thirds* of homicide victims who are *males* in the age-group of *15--34* are *black*."
   ]
  },
  {
   "cell_type": "code",
   "execution_count": 8,
   "id": "2e7677cd-e4e7-413f-86c3-4c046fd8ce38",
   "metadata": {
    "tags": []
   },
   "outputs": [
    {
     "name": "stdout",
     "output_type": "stream",
     "text": [
      "Around 0.66 of homicide victims who are males in the age-group of 15--34 are black\n"
     ]
    }
   ],
   "source": [
    "df_homicide = df[df[\"Intent\"]==\"Homicide\"]\n",
    "denominator = (df_homicide[(df_homicide[\"Gender\"]==\"Male\") & (df_homicide[\"Age\"]==\"15 - 34\")][\"Deaths\"]).sum()\n",
    "frac_black = (df_homicide[(df_homicide[\"Gender\"]==\"Male\") \n",
    "                        & (df_homicide[\"Age\"]==\"15 - 34\")\n",
    "                        & (df_homicide[\"Race\"]==\"Black\")][\"Deaths\"]).sum() / denominator\n",
    "print(\"Around %.2f of homicide victims who are males in the age-group of 15--34 are black\" % (frac_black))"
   ]
  },
  {
   "cell_type": "markdown",
   "id": "64abce35-2b57-4291-b5c7-1292ad1cccee",
   "metadata": {},
   "source": [
    "*Women* constitue only *15 percent* of the total homicide victims."
   ]
  },
  {
   "cell_type": "code",
   "execution_count": 9,
   "id": "02dd1ddd-765f-464b-823e-bb3092960ba3",
   "metadata": {
    "tags": []
   },
   "outputs": [
    {
     "name": "stdout",
     "output_type": "stream",
     "text": [
      "Women constitue only 15 percent of the total homicide victims\n"
     ]
    }
   ],
   "source": [
    "num_homicides = df_homicide[\"Deaths\"].sum()\n",
    "frac_women = 100 * (df_homicide[df_homicide[\"Gender\"]==\"Female\"][\"Deaths\"]).sum() / num_homicides\n",
    "print(\"Women constitue only %d percent of the total homicide victims\" % (frac_women))"
   ]
  },
  {
   "cell_type": "code",
   "execution_count": null,
   "id": "5b7e484c-7490-4740-a650-54ac2efecd7c",
   "metadata": {},
   "outputs": [],
   "source": []
  }
 ],
 "metadata": {
  "kernelspec": {
   "display_name": "Python 3 (ipykernel)",
   "language": "python",
   "name": "python3"
  },
  "language_info": {
   "codemirror_mode": {
    "name": "ipython",
    "version": 3
   },
   "file_extension": ".py",
   "mimetype": "text/x-python",
   "name": "python",
   "nbconvert_exporter": "python",
   "pygments_lexer": "ipython3",
   "version": "3.9.18"
  }
 },
 "nbformat": 4,
 "nbformat_minor": 5
}
