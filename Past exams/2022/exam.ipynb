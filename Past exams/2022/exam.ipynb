{
 "cells": [
  {
   "cell_type": "markdown",
   "id": "09e9a536",
   "metadata": {},
   "source": [
    "## ADA final exam (Fall 2022)\n",
    "\n",
    "This exam consists of 3 tasks. Tasks 2 and 3 are independent of each other (although conceptually related).\n"
   ]
  },
  {
   "cell_type": "markdown",
   "id": "68507ec4",
   "metadata": {
    "tags": []
   },
   "source": [
    "## Dataset\n",
    "\n",
    "For a Wikipedia editor to become an administrator, a so-called “request for adminship” ([RfA](https://en.wikipedia.org/wiki/Wikipedia:Requests_for_adminship)) must be submitted by either the candidate or another community member. Subsequently, any Wikipedia member may cast a supporting or opposing vote. Here we provide a simplified version of the Wikipedia RfA dataset, containing all votes from 2003 through 2012.\n",
    "\n",
    "###  Data format\n",
    "\n",
    "|        |   SRC |   TGT |   VOT |   RES |   YEA | DAT                 | TXT                                                                                                                                                                                               |\n",
    "|-------:|------:|------:|------:|------:|------:|:--------------------|:--------------------------------------------------------------------------------------------------------------------------------------------------------------------------------------------------|\n",
    "|  39054 |  3444 | 10170 |     1 |     1 |  2009 | 2009-07-01 17:50:00 | '''Support''' - Best of luck. &nbsp;                                                                                                                                                              |\n",
    "| 159680 |   722 |  9634 |    -1 |    -1 |  2006 | 2006-12-15 07:28:00 | '''Oppose''' Not even 2000 edits.                                                                                                                                                                 |\n",
    "| 173438 |  4194 |  5524 |     1 |     1 |  2005 | 2005-03-18 19:22:00 | Ohhh, you're Carrp!  In that case, '''Support'''.                                                                                                                                                 |\n",
    "|  60627 |  4855 |  9436 |     1 |     1 |  2008 | 2008-12-18 23:26:00 | '''Support''' via thoughtful answer to my question that demonstrates this editor has clue.                                                 |\n",
    "| 194809 |  7687 |   908 |     1 |     1 |  2004 | 2004-09-25 05:21:00 | Nicholas is very good in English. Also, he got '''exceptional''' patience to explain petty obvious facts in talk page to convince ignorants. Let the world be benefitted more out of his work. -- |\n",
    "\n",
    "\n",
    "- SRC: the user name of the source of the vote, i.e., of the user who cast the vote.\n",
    "- TGT: the user name of the target of the vote, i.e., of the user running for election.\n",
    "- VOT: the source's vote on the target (-1 = oppose; 1 = support).\n",
    "- RES: the outcome of the election (-1 = target was rejected as admin; 1 = target was accepted). **(We will not use this  column in this exam.)**\n",
    "- YEA: the year of the RfA.\n",
    "- DAT: the date and time of this vote. **(We will not use this column in this exam.)**\n",
    "- TXT: the comment written by the source. **(We will not use this column in this exam.)**\n",
    "\n",
    "---\n"
   ]
  },
  {
   "cell_type": "markdown",
   "id": "4a4a661c",
   "metadata": {},
   "source": [
    "## Structural balance theory\n",
    "\n",
    "**Structural balance theory** affirms that social networks tend to be organized so as to avoid conflictual situations, e.g., if a great friend of yours hates someone, you will likely not befriend that person.\n",
    "\n",
    "The theory can be operationalized by looking at _triangles_ in an undirected _signed graph_ capturing person-to-person relationships, where a _signed graph_ is a  graph in which each edge is associated with a positive or negative sign, and a _triangle_ is a set of three edges ($\\langle u,v \\rangle$, $\\langle v,w\\rangle$, $\\langle u,w\\rangle$) that fully connect three distinct nodes ($u, v, w$).\n",
    "\n",
    "\n",
    "\n",
    "_Triangles_ in an undirected signed graph can be in 4 _configurations_:\n",
    "all positive edges ($\\{+,+,+\\}$); \n",
    "all negative edges ($\\{-,-,-\\}$); \n",
    "two positive edges and one negative edge ($\\{+,+,-\\}$);\n",
    "one positive edge and two negative edges ($\\{+,-,-\\}$).\n",
    "\n",
    "Structural balance theory posits that social networks tend to favor triangle configurations with an even number of negative signs (i.e., $\\{+,+,+\\}$ and $\\{+,-,-\\}$), which can be understood as being “balanced” by avoiding conflictual situations. Intuitively, $\\{+,+,+\\}$ could be tagged as “The friend of my friend is my friend”, and $\\{+,-,-\\}$ as “The enemy of my enemy is my friend”, “The friend of my enemy is my enemy”, or “The enemy of my friend is my enemy”. On the contrary, triangle configurations with an odd number of negative signs (i.e., $\\{+,+,-\\}$ and $\\{-,-,-\\}$) are unstable (“unbalanced”) according to structural balance theory and will thus occur less frequently in social networks. For instance, me being friends with two mutual enemies ($\\{+,+,-\\}$) would lead to tension that could be resolved if the two enemies became friends or if I took sides and ended my friendship with one of the two. Similarly, two among three mutual enemies ($\\{-,-,-\\}$) would have the incentive to form an alliance to “gang up” against the third.\n",
    "\n",
    "Some social scientists have argued that three mutual enemies ($\\{-,-,-\\}$) is not necessarily a triangle configuration that social networks tend to avoid. This gives rise to **weak structural balance theory**, which only posits that social networks tend to avoid the “unbalanced” triangle configuration $\\{+,+,-\\}$.\n",
    "\n",
    "In a nutshell,\n",
    "- structural balance theory\n",
    "  - considers $\\{+,+,+\\}$, $\\{+,-,-\\}$ as balanced,\n",
    "  - and $\\{+,+,-\\}$, $\\{-,-,-\\}$ as unbalanced;\n",
    "- weak structural balance theory\n",
    "  - considers $\\{+,+,+\\}$, $\\{+,-,-\\}$, $\\{-,-,-\\}$ as balanced,\n",
    "  - and $\\{+,+,-\\}$ as unbalanced.\n",
    "\n"
   ]
  },
  {
   "cell_type": "markdown",
   "id": "d5f337c9",
   "metadata": {},
   "source": [
    "### Task 1: Preliminaries\n",
    "\n",
    "As a good data scientist, you first load the data and explore it.\n",
    "\n",
    "**1.1**\n",
    "Load the csv file `wiki-RfA.csv.gz` in a pandas dataframe. Calculate the number of distinct RfAs and the average number of votes per RfA.\n",
    "- **Hint:** Throughout this question, assume that each RfA is uniquely determined by the column `TGT` and each vote is uniquely determined by the combination of `SRC` and `TGT`."
   ]
  },
  {
   "cell_type": "code",
   "execution_count": 1,
   "id": "faaf792d-3f9f-4dcd-afee-4bab2c4775e0",
   "metadata": {},
   "outputs": [],
   "source": [
    "import pandas as pd\n",
    "import numpy as np\n",
    "import matplotlib.pyplot as plt\n",
    "import seaborn as sns"
   ]
  },
  {
   "cell_type": "code",
   "execution_count": 2,
   "id": "ff2e92a5",
   "metadata": {},
   "outputs": [
    {
     "name": "stdout",
     "output_type": "stream",
     "text": [
      "Number of distinct RfAs: 3439\n",
      "Average number of votes per RfA: 48.56\n"
     ]
    }
   ],
   "source": [
    "# 1.1\n",
    "df = pd.read_csv(\"wiki-RfA.csv.gz\")\n",
    "rfa = set(df.TGT.unique())\n",
    "avg_num_votes = df.groupby(\"TGT\")[\"TGT\"].size().mean()\n",
    "print(\"Number of distinct RfAs: %.0f\" % len(rfa))\n",
    "print(\"Average number of votes per RfA: %.2f\" % avg_num_votes)"
   ]
  },
  {
   "cell_type": "markdown",
   "id": "813b5a32",
   "metadata": {},
   "source": [
    "**1.2** \n",
    "In a single figure with three subfigures (one per item), show the following time series:\n",
    "- the number of RfAs per year;\n",
    "- the overall fraction of positive votes per year; and \n",
    "- the average number of votes per RfA per year.\n",
    "\n",
    "For each of the above three quantities, print the value for the year 2008."
   ]
  },
  {
   "cell_type": "code",
   "execution_count": 6,
   "id": "b1732d7e",
   "metadata": {},
   "outputs": [
    {
     "name": "stdout",
     "output_type": "stream",
     "text": [
      "Number of RfAs in year 2008: 26833\n",
      "Fraction of positive votes in year 2008: 0.76\n",
      "Average number of votes per RfA in year 2008: 51.60 \n",
      "\n"
     ]
    },
    {
     "data": {
      "image/png": "[encoded data removed]",
      "text/plain": [
       "<Figure size 1200x300 with 3 Axes>"
      ]
     },
     "metadata": {},
     "output_type": "display_data"
    }
   ],
   "source": [
    "# 1.2\n",
    "year = sorted(df.YEA.unique())\n",
    "\n",
    "num_rfa_per_year = df.groupby(\"YEA\").agg(count=(\"YEA\", \"size\")).sort_values(\"YEA\")\n",
    "\n",
    "frac_pos_per_year = df.groupby([\"YEA\", \"VOT\"]).agg(frac=(\"VOT\", \"size\")) / df.groupby(\"YEA\").agg(frac=(\"YEA\", \"size\"))\n",
    "frac_pos_per_year = frac_pos_per_year.reset_index().set_index(\"YEA\")\n",
    "frac_pos_per_year = frac_pos_per_year.loc[frac_pos_per_year[\"VOT\"] == 1].drop(columns=[\"VOT\"])\n",
    "\n",
    "avg_num_vot_per_year = df.groupby([\"YEA\", \"TGT\"]).agg(count=(\"TGT\", \"size\")).groupby(\"YEA\").mean()\n",
    "\n",
    "print(\"Number of RfAs in year 2008: %.0f\" % num_rfa_per_year.loc[2008])\n",
    "print(\"Fraction of positive votes in year 2008: %.2f\" % frac_pos_per_year.loc[2008])\n",
    "print(\"Average number of votes per RfA in year 2008: %.2f \\n\" % avg_num_vot_per_year.loc[2008])\n",
    "\n",
    "fig, axs = plt.subplots(1, 3, figsize=(12, 3))\n",
    "axs[0].plot(year, num_rfa_per_year, '-o')\n",
    "axs[0].set_xlabel(\"Year\")\n",
    "axs[0].set_ylabel(\"Number of RfAs\")\n",
    "\n",
    "axs[1].plot(year, frac_pos_per_year, '-o')\n",
    "axs[1].set_xlabel(\"Year\")\n",
    "axs[1].set_ylabel(\"Fraction of positive votes\")\n",
    "\n",
    "axs[2].plot(year, avg_num_vot_per_year, '-o')\n",
    "axs[2].set_xlabel(\"Year\")\n",
    "axs[2].set_ylabel(\"Average number of votes per RfA\")\n",
    "\n",
    "plt.tight_layout()\n",
    "plt.show()"
   ]
  },
  {
   "cell_type": "markdown",
   "id": "366d38d9",
   "metadata": {},
   "source": [
    "**1.3** \n",
    "**/Discuss:/** Describe the temporal patterns observed in the plots you did in **T1.2**."
   ]
  },
  {
   "cell_type": "markdown",
   "id": "e77900f8",
   "metadata": {},
   "source": [
    "**A1.3** \n",
    "*YOUR ANSWER HERE*\n",
    "\n",
    "* Number of RfAs per year rapidly increases during 2003-2006, peaks at year 2006-2007, and quickly drops until year 2012.\n",
    "* Fraction of positive votes shows fluctuated decrease throughout the time period 2003-2012.\n",
    "* Average number of votes per year steadily increases throughout the time period 2003-2012."
   ]
  },
  {
   "cell_type": "markdown",
   "id": "81126c89",
   "metadata": {},
   "source": [
    "**1.4** \n",
    "Create an undirected graph ([`nx.Graph`](https://networkx.org/documentation/stable/reference/classes/graph.html)) where every node corresponds to a Wikipedia user (source or target of an RfA) and where there exists an edge between two users if at least one of them has voted on the other. Each edge should have attributes corresponding to columns of the dataframe, namely:\n",
    "- `VOT`, which equals `1` if the vote was positive, and `-1` otherwise.\n",
    "- `YEA`, an integer that represents the year of the RfA.\n",
    "\n",
    "**The code to load the graph has been provided to you!** After running it, print the number of nodes and edges in your graph.\n",
    "\n",
    "---\n",
    "\n",
    "**Observation:** Note that we have at most one edge per pair of nodes in the graph, even though two votes may be associated with the pair  — e.g., if A voted in B's RfA in time $t_1$ and B voted in A's RfA in time $t_2$ ($t_1 < t_2$). In these cases, the code provided associates the metadata of the oldest vote ($t_1$ in the example) to the edge between A and B."
   ]
  },
  {
   "cell_type": "code",
   "execution_count": 8,
   "id": "e57d4776",
   "metadata": {},
   "outputs": [],
   "source": [
    "# Provided code! Do not change!\n",
    "import networkx as nx\n",
    "import pandas as pd\n",
    "G = nx.from_pandas_edgelist(pd.read_csv(\"./wiki-RfA.csv.gz\"), \n",
    "                            'SRC', 'TGT', ['VOT', 'RES', 'YEA', 'DAT'], create_using=nx.Graph)"
   ]
  },
  {
   "cell_type": "code",
   "execution_count": 9,
   "id": "f21ec7a6",
   "metadata": {},
   "outputs": [
    {
     "name": "stdout",
     "output_type": "stream",
     "text": [
      "Number of nodes: 10831\n",
      "Number of edges: 161147\n"
     ]
    }
   ],
   "source": [
    "# 1.4\n",
    "print(\"Number of nodes: %.0f\" % G.number_of_nodes())\n",
    "print(\"Number of edges: %.0f\" % G.number_of_edges())"
   ]
  },
  {
   "cell_type": "markdown",
   "id": "37cbd1b8",
   "metadata": {},
   "source": [
    "**1.5** \n",
    "Plot the **complementary** cumulative distribution of the degree centrality of the undirected graph. Use a logarithmic (base 10) x-axis and a linear y-axis."
   ]
  },
  {
   "cell_type": "code",
   "execution_count": 10,
   "id": "c1edfd6a",
   "metadata": {},
   "outputs": [
    {
     "data": {
      "image/png": "[encoded data removed]",
      "text/plain": [
       "<Figure size 400x400 with 1 Axes>"
      ]
     },
     "metadata": {},
     "output_type": "display_data"
    }
   ],
   "source": [
    "# 1.5\n",
    "degrees = dict(G.degree(G.nodes()))\n",
    "sorted_degree = sorted(degrees.values())\n",
    "prob = np.arange(len(degrees), 0, -1) / len(degrees)\n",
    "\n",
    "fig, ax = plt.subplots(1, 1, figsize=(4, 4))\n",
    "ax.semilogx(sorted_degree, prob)\n",
    "ax.set_xlabel(\"Degree centrality\")\n",
    "ax.set_ylabel(\"Probability of exceedance\")\n",
    "ax.set_title(\"CCDF of degree centrality\")\n",
    "plt.tight_layout()\n",
    "plt.show()"
   ]
  },
  {
   "cell_type": "markdown",
   "id": "935be3bf",
   "metadata": {},
   "source": [
    "\n",
    "**1.6**\n",
    "**/Discuss:/** Why is the following statement false? Justify your answer. **\"From the graph obtained in task 1.5, one can conclude that around 40% of the users voted at least 11 times.\"**\n"
   ]
  },
  {
   "cell_type": "markdown",
   "id": "3316f395",
   "metadata": {},
   "source": [
    "**A1.6**\n",
    "*YOUR ANSWER HERE*\n",
    "\n",
    "The degree centrality indicates the number of edges connected to each node. It does not indicate the direction of the edge, i.e., whether the user is voting or being voted. <font color='red'> Therefore, 40% is an upper bound.</font>"
   ]
  },
  {
   "cell_type": "markdown",
   "id": "9d1d5f4a",
   "metadata": {},
   "source": [
    "**1.7**\n",
    "What fraction of users voted at least 11 times? Use the data to measure the fraction."
   ]
  },
  {
   "cell_type": "code",
   "execution_count": 11,
   "id": "a167a11b",
   "metadata": {},
   "outputs": [
    {
     "name": "stdout",
     "output_type": "stream",
     "text": [
      "Fraction of users voted at least 11 times: 0.27\n",
      "Fraction of users voted at least 11 times: 0.24\n"
     ]
    }
   ],
   "source": [
    "# 1.7\n",
    "'''The answer below does not include all users involved in voting in the denominator'''\n",
    "frac_above_11 = sum(df.groupby(\"SRC\").size() >= 11) / len(df.SRC.unique())\n",
    "print(\"Fraction of users voted at least 11 times: %.2f\" % frac_above_11)\n",
    "\n",
    "'''Correction'''\n",
    "G_ = nx.from_pandas_edgelist(df, source='SRC', target='TGT', create_using=nx.MultiDiGraph)\n",
    "tmp = dict(G_.out_degree()).values()\n",
    "frac_above_11 = sum(1 for t in tmp if t > 11) / len(tmp)\n",
    "print(\"Fraction of users voted at least 11 times: %.2f\" % frac_above_11)"
   ]
  },
  {
   "cell_type": "markdown",
   "id": "35b05b29",
   "metadata": {},
   "source": [
    "### Task 2: Triangles\n",
    "\n",
    "Next, you set out to investigate the social balance theory by looking at the RfA graph.\n",
    "\n",
    "**2.1**\n",
    "Considering _only_ the RfAs of 2004 (i.e., where `YEA == 2004`), generate all triangles in the undirected graph.\n",
    "Print the number of triangles found.\n",
    "- **Hint:** Note that you can generate a graph with only a subset of nodes and edges via ` G.edge_subgraph`.\n",
    "-  **Hint:** The function `nx.enumerate_all_cliques` generates all cliques in an undirected graph. First, all cliques of size 1 are generated, then all cliques of size 2, etc. Triangles are cliques of size 3.\n"
   ]
  },
  {
   "cell_type": "code",
   "execution_count": 21,
   "id": "b39a403e",
   "metadata": {},
   "outputs": [
    {
     "name": "stdout",
     "output_type": "stream",
     "text": [
      "Number of cliques with size 3: 8448\n"
     ]
    }
   ],
   "source": [
    "# 2.1\n",
    "'''Should use (SRC, TGT) pair with YEA == 2004 for creating the subgraph'''\n",
    "def calc_triangles(G):\n",
    "    cliques = nx.enumerate_all_cliques(G)\n",
    "    \n",
    "    triangles = []\n",
    "    for c in cliques:\n",
    "        if len(c) == 3:\n",
    "            triangles.append(c)\n",
    "        elif len(c) > 3:\n",
    "            break\n",
    "        else:\n",
    "            pass\n",
    "    return triangles\n",
    "\n",
    "\n",
    "rfa_2004 = [(src, tgt) for i, (src, tgt) in df.loc[df.YEA == 2004, [\"SRC\", \"TGT\"]].iterrows()]\n",
    "G_sub = G.edge_subgraph(rfa_2004)\n",
    "triangles = calc_triangles(G_sub)\n",
    "\n",
    "print(\"Number of cliques with size 3: %.0f\" % len(triangles))"
   ]
  },
  {
   "cell_type": "markdown",
   "id": "9b8ac389",
   "metadata": {},
   "source": [
    "**2.2 ** **/True or false:/** Is the following statement true or false? Justify your answer. **\"The node with the highest clustering coefficient in an undirected graph is the node that belongs to the largest number of triangles.\"**"
   ]
  },
  {
   "cell_type": "markdown",
   "id": "f961eef7",
   "metadata": {},
   "source": [
    "**A2.2**\n",
    "*YOUR ANSWER HERE*\n",
    "\n",
    "False. Clustering coefficient is the highest when all neighbors of the ndoe are connected to each other. The node can belong to a single triangle where the other two nodes are connected, and reach the highest clustering coefficient of 1."
   ]
  },
  {
   "cell_type": "markdown",
   "id": "e2f5b22c",
   "metadata": {},
   "source": [
    "**2.3** Considering the set of triangles previously calculated, estimate the fraction of triangles of configurations\n",
    " $\\{+,+,+\\}$,  $\\{-,-,-\\}$,  $\\{+,+,-\\}$, and $\\{+,-,-\\}$. What fraction of triangles are \"balanced\" according to structural balance theory?"
   ]
  },
  {
   "cell_type": "code",
   "execution_count": 27,
   "id": "f858e94c",
   "metadata": {},
   "outputs": [
    {
     "name": "stdout",
     "output_type": "stream",
     "text": [
      "Fraction of [+, +, +]: 0.793\n",
      "Fraction of [-, -, -]: 0.005\n",
      "Fraction of [+, +, -]: 0.139\n",
      "Fraction of [+, -, -]: 0.063\n",
      "Fraction of balanced triangles: 0.855\n"
     ]
    }
   ],
   "source": [
    "# 2.3\n",
    "from collections import defaultdict\n",
    "\n",
    "def classify_triangles(G, triangles, name):\n",
    "    counter = defaultdict(list)\n",
    "\n",
    "    for tri in triangles:\n",
    "        G_tri = G.subgraph(tri)\n",
    "        vot_tri = nx.get_edge_attributes(G_tri, name)\n",
    "\n",
    "        num_pos = sum(1 for vot in vot_tri.values() if vot == 1)\n",
    "        if num_pos == 3:\n",
    "            counter['three_pos'].append(tri)\n",
    "        elif num_pos == 2:\n",
    "            counter['two_pos'].append(tri)\n",
    "        elif num_pos == 1:\n",
    "            counter['one_pos'].append(tri)\n",
    "        else:\n",
    "            counter['zero_pos'].append(tri)\n",
    "    return counter\n",
    "\n",
    "\n",
    "def print_triangle_stats(counter):\n",
    "    tot = sum(len(v) for v in counter.values())\n",
    "    frac_balanced = (len(counter['three_pos']) + len(counter['one_pos'])) / tot\n",
    "        \n",
    "    print(\"Fraction of [+, +, +]: %.3f\" % (len(counter['three_pos']) / tot))\n",
    "    print(\"Fraction of [-, -, -]: %.3f\" % (len(counter['zero_pos']) / tot))\n",
    "    print(\"Fraction of [+, +, -]: %.3f\" % (len(counter['two_pos']) / tot))\n",
    "    print(\"Fraction of [+, -, -]: %.3f\" % (len(counter['one_pos']) / tot))\n",
    "    print(\"Fraction of balanced triangles: %.3f\" % frac_balanced)\n",
    "    \n",
    "\n",
    "counter = classify_triangles(G, triangles, \"VOT\")\n",
    "print_triangle_stats(counter)"
   ]
  },
  {
   "cell_type": "markdown",
   "id": "97e6f9f0",
   "metadata": {},
   "source": [
    "**2.4** To observe how triangle configurations would be distributed under a random null model, do the following:\n",
    "- Create a new column `VOT_RND` in the dataframe, where RfA votes (i.e., edge signs in the graph) are shuffled, i.e., permuted randomly.  For shuffling, use `numpy.random`, without replacement and with the seed 32 (see code provided below).\n",
    "- Create a new edge attribute with the values of `VOT_RND` in the graph you created in task **1.4**. You can do this easily using the  [`set_edge_attributes`](https://networkx.org/documentation/stable/reference/generated/networkx.classes.function.set_edge_attributes.html) function.\n",
    "- Considering the shuffled edge signs,  compute the fraction of triangles in each configuration ($\\{+,+,+\\}$,  $\\{-,-,-\\}$,  $\\{+,+,-\\}$, $\\{+,-,-\\}$). Moreover, compute the fraction of triangles that are \"balanced\" according to structural balance theory. (Reminder: consider only the RfAs of 2004.)\n"
   ]
  },
  {
   "cell_type": "code",
   "execution_count": 28,
   "id": "8b4cba61",
   "metadata": {},
   "outputs": [],
   "source": [
    "# PROVIDED STUB FOR 2.4\n",
    "import numpy as np\n",
    "np.random.seed(32)\n",
    "df_2004 = df[df.YEA == 2004].copy(deep=True)\n",
    "df_2004[\"VOT_RND\"] = np.random.choice(df_2004[\"VOT\"].values, size=len(df_2004), replace=False)"
   ]
  },
  {
   "cell_type": "code",
   "execution_count": 29,
   "id": "49cf240b",
   "metadata": {},
   "outputs": [
    {
     "name": "stdout",
     "output_type": "stream",
     "text": [
      "Fraction of [+, +, +]: 0.686\n",
      "Fraction of [-, -, -]: 0.002\n",
      "Fraction of [+, +, -]: 0.278\n",
      "Fraction of [+, -, -]: 0.034\n",
      "Fraction of balanced triangles: 0.720\n"
     ]
    }
   ],
   "source": [
    "# 2.4\n",
    "vot_rnd_2004 = {(src, tgt): vot for i, (src, tgt, vot) in df_2004[[\"SRC\", \"TGT\", \"VOT_RND\"]].iterrows()}\n",
    "nx.set_edge_attributes(G, vot_rnd_2004, name=\"VOT_RND\")\n",
    "\n",
    "counter = classify_triangles(G, triangles, \"VOT_RND\")\n",
    "print_triangle_stats(counter)"
   ]
  },
  {
   "cell_type": "markdown",
   "id": "f055a145",
   "metadata": {},
   "source": [
    "**2.5** **/Discuss:/** Do the results of tasks **2.3** and **2.4** suggest that structural balance theory is correct? What kind of subsequent analysis would make you trust that the results are not obtained simply by chance? (No need to actually perform that subsequent analysis here.) Justify your answer."
   ]
  },
  {
   "cell_type": "markdown",
   "id": "dcd070a6",
   "metadata": {},
   "source": [
    "**A2.5** *YOUR ANSWER HERE*\n",
    "\n",
    "The results of tasks **2.3** and **2.4** <font color='red'> show that the observed fraction of balanced triangles is higher than that in a random null model, therefore imply that the structural balance theory is correct. </font>We can use bootstrapping to calculate the confidence interval of the fraction of balanced triangles, with the observation and the random null model, respectively. If the confidence interval do not overlap, then it implies that the difference between the results cannot be attributed to chance, and that the structural theory is true."
   ]
  },
  {
   "cell_type": "markdown",
   "id": "d5252ffb",
   "metadata": {},
   "source": [
    "### Interlude: Additional data\n",
    "\n",
    "In the data provided in the file `wiki-RfA.csv.gz` (with which you’ve worked up to now), each column corresponds to a vote from a user $u$ to a user $v$ at a time $t$. \n",
    "\n",
    "In **Task 2**, we did not consider the temporal aspect of this network. For the next task, you are provided with a complimentary dataset (`data/wiki-RfA_extra.csv.gz`) containing, for each vote (uniquely determined by `SRC` and `TGT`), a variety of features. **Importantly, these features were calculated considering only data that was already available at the time when the respective vote was cast.** The features are described as follows.\n",
    "\n",
    "- `PP`, `NN`, `PN` — Each vote (signed edge) is part of zero or more triangles, and we computed the number of triangles in which the two remaining edges were both positive (`PP`), both negative (`NN`) and of different signs (i.e., one positive and one negative, `PN`). This considers only the votes the target (denoted by `TGT`) has received before the current vote. \n",
    "\n",
    "- `P`, `N` — The number of positive (`P`) and negative (`N`) votes that the target `TGT` received before the current vote.\n",
    "\n",
    "- `TXT_PROCESSED` — The text in the original dataset, processed so 1) it is entirely lower-case, 2) it does not contain non-alphanumeric characters, and 3) it does not contain words starting with “supp” or “opp” (since words such as \"support\" and \"oppose\"  are obvious give-away signals of the vote).\n",
    "\n",
    "### Interlude: Predicting edge signs with structural balance theory\n",
    "\n",
    "We can use structural balance theory to predict edge signs. \n",
    "\n",
    "Consider an edge whose sign we do not know, as well as the fractions `PP`, `NN`, and `PN` associated with the edge, as defined above. \n",
    "\n",
    "According to structural balance theory, if `PP` + `NN` $\\geq$ `PN`, the vote is predicted to be positive, as this will create more balanced triangles in the graph. Otherwise, it is predicted to be negative. \n",
    "\n",
    "According to the weak structural balance theory, if `PP` $\\geq$ `PN`, the vote is predicted to be positive, as this will create more balanced triangles in the graph. Otherwise, it is predicted to be negative. \n",
    "\n",
    "Note that in both cases we use “$\\geq$” rather than “<”, i.e., when both sides of the equation are equal, we break ties in favor of positive edges. We do so because there are more positive edges in the graph."
   ]
  },
  {
   "cell_type": "markdown",
   "id": "e2f20eed",
   "metadata": {},
   "source": [
    "### Task 3: Predict it!\n",
    "\n",
    "In the final part of the exam, you will leverage your machine learning and regression skills.\n",
    "\n",
    "**3.1** Merge the new dataset with the original dataframe from task **1** using the columns `SRC` and `TGT`. You may drop the old `TXT` column if you want to. \n"
   ]
  },
  {
   "cell_type": "code",
   "execution_count": 41,
   "id": "a2272113",
   "metadata": {},
   "outputs": [
    {
     "data": {
      "text/html": [
       "<div>\n",
       "<style scoped>\n",
       "    .dataframe tbody tr th:only-of-type {\n",
       "        vertical-align: middle;\n",
       "    }\n",
       "\n",
       "    .dataframe tbody tr th {\n",
       "        vertical-align: top;\n",
       "    }\n",
       "\n",
       "    .dataframe thead th {\n",
       "        text-align: right;\n",
       "    }\n",
       "</style>\n",
       "<table border=\"1\" class=\"dataframe\">\n",
       "  <thead>\n",
       "    <tr style=\"text-align: right;\">\n",
       "      <th></th>\n",
       "      <th>SRC</th>\n",
       "      <th>TGT</th>\n",
       "      <th>VOT</th>\n",
       "      <th>RES</th>\n",
       "      <th>YEA_x</th>\n",
       "      <th>DAT</th>\n",
       "      <th>YEA_y</th>\n",
       "      <th>PP</th>\n",
       "      <th>NN</th>\n",
       "      <th>PN</th>\n",
       "      <th>N</th>\n",
       "      <th>P</th>\n",
       "      <th>TXT_PROCESSED</th>\n",
       "    </tr>\n",
       "  </thead>\n",
       "  <tbody>\n",
       "    <tr>\n",
       "      <th>0</th>\n",
       "      <td>5943</td>\n",
       "      <td>9966</td>\n",
       "      <td>-1</td>\n",
       "      <td>-1</td>\n",
       "      <td>2012</td>\n",
       "      <td>2012-12-30 22:27:00</td>\n",
       "      <td>2012</td>\n",
       "      <td>2</td>\n",
       "      <td>0</td>\n",
       "      <td>4</td>\n",
       "      <td>12</td>\n",
       "      <td>0</td>\n",
       "      <td></td>\n",
       "    </tr>\n",
       "    <tr>\n",
       "      <th>1</th>\n",
       "      <td>9153</td>\n",
       "      <td>9966</td>\n",
       "      <td>-1</td>\n",
       "      <td>-1</td>\n",
       "      <td>2012</td>\n",
       "      <td>2012-12-30 22:25:00</td>\n",
       "      <td>2012</td>\n",
       "      <td>2</td>\n",
       "      <td>1</td>\n",
       "      <td>3</td>\n",
       "      <td>11</td>\n",
       "      <td>0</td>\n",
       "      <td>this joke really isn t funny not even if you ...</td>\n",
       "    </tr>\n",
       "    <tr>\n",
       "      <th>2</th>\n",
       "      <td>4189</td>\n",
       "      <td>9966</td>\n",
       "      <td>-1</td>\n",
       "      <td>-1</td>\n",
       "      <td>2012</td>\n",
       "      <td>2012-12-30 22:17:00</td>\n",
       "      <td>2012</td>\n",
       "      <td>0</td>\n",
       "      <td>0</td>\n",
       "      <td>2</td>\n",
       "      <td>10</td>\n",
       "      <td>0</td>\n",
       "      <td>as per nomination and answers</td>\n",
       "    </tr>\n",
       "    <tr>\n",
       "      <th>3</th>\n",
       "      <td>3750</td>\n",
       "      <td>9966</td>\n",
       "      <td>-1</td>\n",
       "      <td>-1</td>\n",
       "      <td>2012</td>\n",
       "      <td>2012-12-30 22:14:00</td>\n",
       "      <td>2012</td>\n",
       "      <td>0</td>\n",
       "      <td>0</td>\n",
       "      <td>0</td>\n",
       "      <td>9</td>\n",
       "      <td>0</td>\n",
       "      <td>and speeedy close this as wp snow as it s cle...</td>\n",
       "    </tr>\n",
       "    <tr>\n",
       "      <th>4</th>\n",
       "      <td>4225</td>\n",
       "      <td>9966</td>\n",
       "      <td>-1</td>\n",
       "      <td>-1</td>\n",
       "      <td>2012</td>\n",
       "      <td>2012-12-30 22:08:00</td>\n",
       "      <td>2012</td>\n",
       "      <td>0</td>\n",
       "      <td>0</td>\n",
       "      <td>1</td>\n",
       "      <td>8</td>\n",
       "      <td>0</td>\n",
       "      <td>per nomination and answers i am particularly ...</td>\n",
       "    </tr>\n",
       "  </tbody>\n",
       "</table>\n",
       "</div>"
      ],
      "text/plain": [
       "    SRC   TGT  VOT  RES  YEA_x                  DAT  YEA_y  PP  NN  PN   N  P  \\\n",
       "0  5943  9966   -1   -1   2012  2012-12-30 22:27:00   2012   2   0   4  12  0   \n",
       "1  9153  9966   -1   -1   2012  2012-12-30 22:25:00   2012   2   1   3  11  0   \n",
       "2  4189  9966   -1   -1   2012  2012-12-30 22:17:00   2012   0   0   2  10  0   \n",
       "3  3750  9966   -1   -1   2012  2012-12-30 22:14:00   2012   0   0   0   9  0   \n",
       "4  4225  9966   -1   -1   2012  2012-12-30 22:08:00   2012   0   0   1   8  0   \n",
       "\n",
       "                                       TXT_PROCESSED  \n",
       "0                                                     \n",
       "1   this joke really isn t funny not even if you ...  \n",
       "2                     as per nomination and answers   \n",
       "3   and speeedy close this as wp snow as it s cle...  \n",
       "4   per nomination and answers i am particularly ...  "
      ]
     },
     "execution_count": 41,
     "metadata": {},
     "output_type": "execute_result"
    }
   ],
   "source": [
    "# 3.1\n",
    "df_extra = pd.read_csv(\"wiki-RfA_extra.csv.gz\")\n",
    "df_merged = df.merge(df_extra, on=[\"SRC\", \"TGT\"]).drop(columns=[\"TXT\"])\n",
    "df_merged.head()"
   ]
  },
  {
   "cell_type": "markdown",
   "id": "c5d42a2d",
   "metadata": {},
   "source": [
    "**3.2**  Create the following two rule-based classifiers, and for each, estimate its area under the ROC curve (a.k.a. “AUC/ROC”) on the entire dataset:\n",
    "\n",
    "- **A)** a classifier inspired by structural balance theory. The classifier should predict a positive vote if  `PP` + `NN` $\\geq$ `PN`, and a negative vote otherwise.\n",
    "- **B)** a classifier inspired by weak structural balance theory. The classifier should predict a positive vote if `PP`  $\\geq$ `PN` and a negative vote otherwise."
   ]
  },
  {
   "cell_type": "code",
   "execution_count": 42,
   "id": "44643421",
   "metadata": {},
   "outputs": [
    {
     "name": "stdout",
     "output_type": "stream",
     "text": [
      "AUC/ROC for structural balance classifier: 0.525\n",
      "AUC/ROC for weak structural balance classifier: 0.528\n"
     ]
    }
   ],
   "source": [
    "# 3.2\n",
    "from sklearn.metrics import roc_auc_score\n",
    "\n",
    "def structural_balance_classifier(df):\n",
    "    if df[\"PP\"] + df[\"NN\"] >= df[\"PN\"]:\n",
    "        return 1\n",
    "    else:\n",
    "        return -1\n",
    "\n",
    "def weak_structural_balance_classifier(df):\n",
    "    if df[\"PP\"] >= df[\"PN\"]:\n",
    "        return 1\n",
    "    else:\n",
    "        return -1\n",
    "    \n",
    "def predict_vote(df):\n",
    "    df[\"PRED_SB\"] = df.apply(structural_balance_classifier, axis=1)\n",
    "    df[\"PRED_WSB\"] = df.apply(weak_structural_balance_classifier, axis=1)\n",
    "    return df\n",
    "\n",
    "\n",
    "df_merged = predict_vote(df_merged)\n",
    "\n",
    "print(\"AUC/ROC for structural balance classifier: %.3f\" % roc_auc_score(df_merged[\"VOT\"], df_merged[\"PRED_SB\"]))\n",
    "print(\"AUC/ROC for weak structural balance classifier: %.3f\" % roc_auc_score(df_merged[\"VOT\"], df_merged[\"PRED_WSB\"]))"
   ]
  },
  {
   "cell_type": "markdown",
   "id": "0161ec09",
   "metadata": {},
   "source": [
    "**3.3** To determine if the differences in the classifiers from task **3.2** occur solely due to chance, follow the following bootstrap procedure, using 200 iterations:\n",
    "\n",
    "- **A)** Randomly sample the entire dataset (i.e., votes from the dataframe constructed in task **3.1**) with replacement;\n",
    "- **B)** Compute the difference of the AUC/ROC for the two classifiers on the entire dataset.\n",
    "\n",
    "Then use the distribution of AUC/ROC differences (one difference per bootstrap iteration) to estimate the 95% confidence interval for the AUC/ROC difference."
   ]
  },
  {
   "cell_type": "code",
   "execution_count": 46,
   "id": "817ee28f",
   "metadata": {},
   "outputs": [
    {
     "name": "stdout",
     "output_type": "stream",
     "text": [
      "95% confidence interval for AUC/ROC difference: [-3.08e-03, -2.28e-03]\n"
     ]
    }
   ],
   "source": [
    "# 3.3\n",
    "def calc_roc_auc_diff(df):\n",
    "    return roc_auc_score(df[\"VOT\"], df[\"PRED_SB\"]) - roc_auc_score(df[\"VOT\"], df[\"PRED_WSB\"])\n",
    "\n",
    "def bootstrap_CI(df, size, num_iter, alpha=0.05):\n",
    "    mean = np.zeros(num_iter)\n",
    "    for i in range(num_iter):\n",
    "        df_sampled = df.sample(n=size, replace=True)\n",
    "        df_sampled = predict_vote(df_sampled)\n",
    "        mean[i] = calc_roc_auc_diff(df_sampled)\n",
    "    CI = (np.quantile(mean, alpha/2), np.quantile(mean, 1-alpha/2))\n",
    "    return CI\n",
    "\n",
    "\n",
    "CI = bootstrap_CI(df_merged, size=len(df_merged), num_iter=200, alpha=0.05)\n",
    "print(\"95% confidence interval for AUC/ROC difference: [{:.2e}, {:.2e}]\".format(CI[0], CI[1]))"
   ]
  },
  {
   "cell_type": "markdown",
   "id": "4d0e1569",
   "metadata": {},
   "source": [
    "**3.4** **/Discuss:**/ According to the results in tasks **3.2** and **3.3**, which theory better predicts actual edge signs, structural balance theory or the weak structural balance theory? \n"
   ]
  },
  {
   "cell_type": "markdown",
   "id": "94b39801",
   "metadata": {},
   "source": [
    "**A3.4** *YOUR ANSWER HERE*\n",
    "\n",
    "There is no significant difference in the prediction performance of the two theories at 95% confidence level.\n",
    "\n",
    "<font color='red'> Weak structural balance theory outperforms structural balance theory at 95% confidence level. </font>"
   ]
  },
  {
   "cell_type": "markdown",
   "id": "28d37dc1",
   "metadata": {},
   "source": [
    "**3.5** How accurately can we predict the vote with more sophisticated features and algorithms?\n",
    "\n",
    "- Create a TF-IDF representation of the text of each vote  using `sklearn`'s vectorizer ([`sklearn.feature_extraction.text.TfidfVectorizer`](https://scikit-learn.org/stable/modules/generated/sklearn.feature_extraction.text.TfidfVectorizer.html)) with the parameters `max_features=150` and `stop_words='english'`.\n",
    "- Split the  dataset into training and test sets using sklearn [`sklearn.model_selection.train_test_split`](https://scikit-learn.org/stable/modules/generated/sklearn.model_selection.train_test_split.html) using parameters `test_size=0.1` and  `random_state=42`.\n",
    "\n",
    "- Then, train two logistic regression models ([`sklearn.linear_model.SGDClassifier`](https://scikit-learn.org/stable/modules/generated/sklearn.linear_model.SGDClassifier.html)) using parameters `loss='log_loss'` and `max_iter=2000` considering:\n",
    "\n",
    "    - **1)** the TF-IDF feature vector\n",
    "\n",
    "    - **2)** the TF-IDF feature vector and the features `PP`, `NN`, `PN`, `P`, and `N` related to the graph.\n",
    "\n",
    "- Last, report the AUC/ROC of each model in the test set."
   ]
  },
  {
   "cell_type": "code",
   "execution_count": 44,
   "id": "764a00f3",
   "metadata": {},
   "outputs": [
    {
     "name": "stdout",
     "output_type": "stream",
     "text": [
      "AUC/ROC for model A: 0.70\n",
      "AUC/ROC for model B: 0.77\n"
     ]
    }
   ],
   "source": [
    "# 3.5\n",
    "from sklearn.feature_extraction.text import TfidfVectorizer\n",
    "from sklearn.model_selection import train_test_split\n",
    "from sklearn.linear_model import SGDClassifier\n",
    "\n",
    "\n",
    "def fit_model(X, y):\n",
    "    model = SGDClassifier(random_state=0, loss='log_loss', max_iter=2000)\n",
    "    model.fit(X, y)\n",
    "    return model\n",
    "    \n",
    "def standardize(df, columns):\n",
    "    for column in columns:\n",
    "        df[column] = (df[column] - df[column].mean()) / df[column].std()\n",
    "    return df\n",
    "\n",
    "'''Never use fit_transform() on testing data'''\n",
    "def get_tfidf(trainset, testset):\n",
    "    vectorizer = TfidfVectorizer(max_features=150, stop_words='english')\n",
    "    train_tfidf = vectorizer.fit_transform(trainset[\"TXT_PROCESSED\"])\n",
    "    test_tfidf = vectorizer.transform(testset[\"TXT_PROCESSED\"])\n",
    "    return train_tfidf.toarray(), test_tfidf.toarray()\n",
    "\n",
    "\n",
    "# drop NaN text\n",
    "features = [\"PP\", \"NN\", \"PN\", \"P\", \"N\"]\n",
    "df_merged = df_merged.dropna(subset = features + [\"TXT_PROCESSED\"])\n",
    "\n",
    "# standardize features\n",
    "# df_merged = standardize(df_merged, features)\n",
    "\n",
    "# get train-test split\n",
    "trainset, testset = train_test_split(df_merged, test_size=0.1, random_state=42)\n",
    "train_tfidf, test_tfidf = get_tfidf(trainset, testset)\n",
    "train_y, test_y = trainset[\"VOT\"].tolist(), testset[\"VOT\"].tolist()\n",
    "\n",
    "# A: TF-IDF feature vector\n",
    "train_X = train_tfidf\n",
    "model = fit_model(train_X, train_y)\n",
    "test_pred = model.predict(test_tfidf)\n",
    "print(\"AUC/ROC for model A: %.2f\" % roc_auc_score(test_y, test_pred))\n",
    "\n",
    "# B: TF-IDF feature vector and features PP, NN, PN, P, and N\n",
    "train_X = np.column_stack([train_tfidf, trainset[features].to_numpy()])\n",
    "test_X = np.column_stack([test_tfidf, testset[features].to_numpy()])\n",
    "model = fit_model(train_X, train_y)\n",
    "test_pred = model.predict(test_X)\n",
    "print(\"AUC/ROC for model B: %.2f\" % roc_auc_score(test_y, test_pred))"
   ]
  },
  {
   "cell_type": "markdown",
   "id": "898cbdd1",
   "metadata": {},
   "source": [
    "**3.6** **/Discuss:**/  According to the results in task **3.5**, does information from the graph help in the task of predicting the vote even when using the text?  What kind of subsequent analysis would make you trust that the results are not obtained simply by chance? (No need to actually perform that subsequent analysis here.) "
   ]
  },
  {
   "cell_type": "markdown",
   "id": "6b6767ad",
   "metadata": {},
   "source": [
    "**A3.6** *YOUR ANSWER HERE*\n",
    "\n",
    "It appears that the information from the graph helps predict the vote. <font color='red'>Bootstrap the difference in AUC/ROC score between the models.</font>"
   ]
  },
  {
   "cell_type": "markdown",
   "id": "7f51071d",
   "metadata": {},
   "source": [
    "**3.7** Putting on your observational studies hat, run two logistic regressions using `statsmodels`.\n",
    "- In the first regression, the vote is the outcome, and `PP`, `NN` and `PN` are the predictors.\n",
    "- In the second regression, the vote is the outcome, and `PP`, `NN`, `PN`, and `N` are the predictors."
   ]
  },
  {
   "cell_type": "code",
   "execution_count": 49,
   "id": "9f8df411",
   "metadata": {},
   "outputs": [
    {
     "name": "stdout",
     "output_type": "stream",
     "text": [
      "Optimization terminated successfully.\n",
      "         Current function value: 0.520376\n",
      "         Iterations 7\n",
      "                           Logit Regression Results                           \n",
      "==============================================================================\n",
      "Dep. Variable:                   VOT2   No. Observations:               162920\n",
      "Model:                          Logit   Df Residuals:                   162916\n",
      "Method:                           MLE   Df Model:                            3\n",
      "Date:                Sat, 13 Jan 2024   Pseudo R-squ.:                 0.01775\n",
      "Time:                        20:56:49   Log-Likelihood:                -84780.\n",
      "converged:                       True   LL-Null:                       -86312.\n",
      "Covariance Type:            nonrobust   LLR p-value:                     0.000\n",
      "==============================================================================\n",
      "                 coef    std err          z      P>|z|      [0.025      0.975]\n",
      "------------------------------------------------------------------------------\n",
      "Intercept      1.2520      0.006    201.118      0.000       1.240       1.264\n",
      "PP             0.2462      0.007     33.871      0.000       0.232       0.260\n",
      "NN            -0.6704      0.040    -16.740      0.000      -0.749      -0.592\n",
      "PN            -0.5437      0.014    -39.610      0.000      -0.571      -0.517\n",
      "==============================================================================\n",
      "Optimization terminated successfully.\n",
      "         Current function value: 0.494115\n",
      "         Iterations 7\n",
      "                           Logit Regression Results                           \n",
      "==============================================================================\n",
      "Dep. Variable:                   VOT2   No. Observations:               162920\n",
      "Model:                          Logit   Df Residuals:                   162915\n",
      "Method:                           MLE   Df Model:                            4\n",
      "Date:                Sat, 13 Jan 2024   Pseudo R-squ.:                 0.06732\n",
      "Time:                        20:56:50   Log-Likelihood:                -80501.\n",
      "converged:                       True   LL-Null:                       -86312.\n",
      "Covariance Type:            nonrobust   LLR p-value:                     0.000\n",
      "==============================================================================\n",
      "                 coef    std err          z      P>|z|      [0.025      0.975]\n",
      "------------------------------------------------------------------------------\n",
      "Intercept      1.5945      0.008    208.094      0.000       1.579       1.610\n",
      "PP             0.2504      0.008     32.963      0.000       0.236       0.265\n",
      "NN            -0.5426      0.040    -13.490      0.000      -0.621      -0.464\n",
      "PN            -0.4511      0.014    -32.524      0.000      -0.478      -0.424\n",
      "N             -0.0431      0.000    -87.639      0.000      -0.044      -0.042\n",
      "==============================================================================\n"
     ]
    }
   ],
   "source": [
    "# 3.7\n",
    "import statsmodels.api as sm\n",
    "import statsmodels.formula.api as smf\n",
    "\n",
    "'''Assign VOT to 0 and 1 for better interpretability'''\n",
    "df_merged[\"VOT2\"] = (df_merged[\"VOT\"] == 1).values.astype(int)\n",
    "\n",
    "mod_1 = smf.logit(formula=\"VOT2 ~ PP + NN + PN\", data=df_merged).fit()\n",
    "print(mod_1.summary())\n",
    "\n",
    "mod_2 = smf.logit(formula=\"VOT2 ~ PP + NN + PN + N\", data=df_merged).fit()\n",
    "print(mod_2.summary())"
   ]
  },
  {
   "cell_type": "markdown",
   "id": "db15d090",
   "metadata": {},
   "source": [
    "**3.8** **/Discuss:**/   Explain what the coefficient associated with `PP` means in the first regression. Is it in accordance with structural balance theory?"
   ]
  },
  {
   "cell_type": "markdown",
   "id": "48845787",
   "metadata": {},
   "source": [
    "**A3.8** *YOUR ANSWER HERE*\n",
    "\n",
    "The coefficient associated with `PP` is 0.0866. It indicates that a unit increase in `PP` increases the probability of positive vote by 0.0866. This is in accordance with structural balance theory because [+, +, +] is considered balanced, while [+, +, -] is not.\n",
    "\n",
    "<font color='red'> Having two other positive edges increases the log odds of receiving a positive vote by 0.25.</font>"
   ]
  },
  {
   "cell_type": "markdown",
   "id": "49752dbb",
   "metadata": {},
   "source": [
    "**3.9** **/Discuss:**/   Compare the coefficients associated with `PN` and `NN` in the first vs. the second regression. Present a reason that may explain this difference."
   ]
  },
  {
   "cell_type": "markdown",
   "id": "8ab7612b",
   "metadata": {},
   "source": [
    "**A3.9**  *YOUR ANSWER HERE*\n",
    "\n",
    "The coefficients associated with `PN` and `NN` both increase in the second regression. This may be due to a positive correlation between these two variables with `N`, which is negatively correlated with the dependent variable `VOT`."
   ]
  },
  {
   "cell_type": "markdown",
   "id": "207c9147",
   "metadata": {},
   "source": [
    "---"
   ]
  }
 ],
 "metadata": {
  "kernelspec": {
   "display_name": "Python [conda env:adaexam] *",
   "language": "python",
   "name": "conda-env-adaexam-py"
  },
  "language_info": {
   "codemirror_mode": {
    "name": "ipython",
    "version": 3
   },
   "file_extension": ".py",
   "mimetype": "text/x-python",
   "name": "python",
   "nbconvert_exporter": "python",
   "pygments_lexer": "ipython3",
   "version": "3.9.7"
  }
 },
 "nbformat": 4,
 "nbformat_minor": 5
}
