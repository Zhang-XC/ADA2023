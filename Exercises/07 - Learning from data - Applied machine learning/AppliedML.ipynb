{
 "cells": [
  {
   "cell_type": "markdown",
   "metadata": {},
   "source": [
    "## All you need is love… And a pet!\n",
    "\n",
    "<img src=\"img/dataset-cover.jpg\" width=\"920\">\n",
    "\n",
    "Here we are going to build a classifier to predict whether an animal from an animal shelter will be adopted or not (aac_intakes_outcomes.csv, available at: https://www.kaggle.com/aaronschlegel/austin-animal-center-shelter-intakes-and-outcomes/version/1#aac_intakes_outcomes.csv). You will be working with the following features:\n",
    "\n",
    "1. *animal_type:* Type of animal. May be one of 'cat', 'dog', 'bird', etc.\n",
    "2. *intake_year:* Year of intake\n",
    "3. *intake_condition:* The intake condition of the animal. Can be one of 'normal', 'injured', 'sick', etc.\n",
    "4. *intake_number:* The intake number denoting the number of occurrences the animal has been brought into the shelter. Values higher than 1 indicate the animal has been taken into the shelter on more than one occasion.\n",
    "5. *intake_type:* The type of intake, for example, 'stray', 'owner surrender', etc.\n",
    "6. *sex_upon_intake:* The gender of the animal and if it has been spayed or neutered at the time of intake\n",
    "7. *age_upon\\_intake_(years):* The age of the animal upon intake represented in years\n",
    "8. *time_in_shelter_days:* Numeric value denoting the number of days the animal remained at the shelter from intake to outcome.\n",
    "9. *sex_upon_outcome:* The gender of the animal and if it has been spayed or neutered at time of outcome\n",
    "10. *age_upon\\_outcome_(years):* The age of the animal upon outcome represented in years\n",
    "11. *outcome_type:* The outcome type. Can be one of ‘adopted’, ‘transferred’, etc."
   ]
  },
  {
   "cell_type": "code",
   "execution_count": 1,
   "metadata": {},
   "outputs": [],
   "source": [
    "import numpy as np\n",
    "import matplotlib.pyplot as plt\n",
    "import pandas as pd\n",
    "import scipy as sp\n",
    "from itertools import combinations \n",
    "import ast\n",
    "from sklearn.linear_model import LogisticRegression\n",
    "import seaborn as sn\n",
    "%matplotlib inline\n",
    "\n",
    "data_folder = './data/'"
   ]
  },
  {
   "cell_type": "markdown",
   "metadata": {},
   "source": [
    "### A) Load the dataset and convert categorical features to a suitable numerical representation (use dummy-variable encoding). \n",
    "- Split the data into a training set (80%) and a test set (20%). Pair each feature vector with the corresponding label, i.e., whether the outcome_type is adoption or not. \n",
    "- Standardize the values of each feature in the data to have mean 0 and variance 1.\n",
    "\n",
    "The use of external libraries is not permitted in part A, except for numpy and pandas. \n",
    "You can drop entries with missing values."
   ]
  },
  {
   "cell_type": "code",
   "execution_count": 7,
   "metadata": {},
   "outputs": [
    {
     "data": {
      "text/html": [
       "<div>\n",
       "<style scoped>\n",
       "    .dataframe tbody tr th:only-of-type {\n",
       "        vertical-align: middle;\n",
       "    }\n",
       "\n",
       "    .dataframe tbody tr th {\n",
       "        vertical-align: top;\n",
       "    }\n",
       "\n",
       "    .dataframe thead th {\n",
       "        text-align: right;\n",
       "    }\n",
       "</style>\n",
       "<table border=\"1\" class=\"dataframe\">\n",
       "  <thead>\n",
       "    <tr style=\"text-align: right;\">\n",
       "      <th></th>\n",
       "      <th>outcome_type</th>\n",
       "      <th>sex_upon_outcome</th>\n",
       "      <th>age_upon_outcome_(years)</th>\n",
       "      <th>animal_type</th>\n",
       "      <th>intake_condition</th>\n",
       "      <th>intake_type</th>\n",
       "      <th>sex_upon_intake</th>\n",
       "      <th>age_upon_intake_(years)</th>\n",
       "      <th>intake_year</th>\n",
       "      <th>intake_number</th>\n",
       "      <th>time_in_shelter_days</th>\n",
       "    </tr>\n",
       "  </thead>\n",
       "  <tbody>\n",
       "    <tr>\n",
       "      <th>0</th>\n",
       "      <td>Return to Owner</td>\n",
       "      <td>Neutered Male</td>\n",
       "      <td>10.0</td>\n",
       "      <td>Dog</td>\n",
       "      <td>Normal</td>\n",
       "      <td>Stray</td>\n",
       "      <td>Neutered Male</td>\n",
       "      <td>10.0</td>\n",
       "      <td>2017</td>\n",
       "      <td>1.0</td>\n",
       "      <td>0.588194</td>\n",
       "    </tr>\n",
       "    <tr>\n",
       "      <th>1</th>\n",
       "      <td>Return to Owner</td>\n",
       "      <td>Neutered Male</td>\n",
       "      <td>7.0</td>\n",
       "      <td>Dog</td>\n",
       "      <td>Normal</td>\n",
       "      <td>Public Assist</td>\n",
       "      <td>Neutered Male</td>\n",
       "      <td>7.0</td>\n",
       "      <td>2014</td>\n",
       "      <td>2.0</td>\n",
       "      <td>1.259722</td>\n",
       "    </tr>\n",
       "    <tr>\n",
       "      <th>2</th>\n",
       "      <td>Return to Owner</td>\n",
       "      <td>Neutered Male</td>\n",
       "      <td>6.0</td>\n",
       "      <td>Dog</td>\n",
       "      <td>Normal</td>\n",
       "      <td>Public Assist</td>\n",
       "      <td>Neutered Male</td>\n",
       "      <td>6.0</td>\n",
       "      <td>2014</td>\n",
       "      <td>3.0</td>\n",
       "      <td>1.113889</td>\n",
       "    </tr>\n",
       "    <tr>\n",
       "      <th>3</th>\n",
       "      <td>Transfer</td>\n",
       "      <td>Neutered Male</td>\n",
       "      <td>10.0</td>\n",
       "      <td>Dog</td>\n",
       "      <td>Normal</td>\n",
       "      <td>Owner Surrender</td>\n",
       "      <td>Neutered Male</td>\n",
       "      <td>10.0</td>\n",
       "      <td>2014</td>\n",
       "      <td>1.0</td>\n",
       "      <td>4.970139</td>\n",
       "    </tr>\n",
       "    <tr>\n",
       "      <th>4</th>\n",
       "      <td>Return to Owner</td>\n",
       "      <td>Neutered Male</td>\n",
       "      <td>16.0</td>\n",
       "      <td>Dog</td>\n",
       "      <td>Injured</td>\n",
       "      <td>Public Assist</td>\n",
       "      <td>Neutered Male</td>\n",
       "      <td>16.0</td>\n",
       "      <td>2013</td>\n",
       "      <td>1.0</td>\n",
       "      <td>0.119444</td>\n",
       "    </tr>\n",
       "  </tbody>\n",
       "</table>\n",
       "</div>"
      ],
      "text/plain": [
       "      outcome_type sex_upon_outcome  age_upon_outcome_(years) animal_type  \\\n",
       "0  Return to Owner    Neutered Male                      10.0         Dog   \n",
       "1  Return to Owner    Neutered Male                       7.0         Dog   \n",
       "2  Return to Owner    Neutered Male                       6.0         Dog   \n",
       "3         Transfer    Neutered Male                      10.0         Dog   \n",
       "4  Return to Owner    Neutered Male                      16.0         Dog   \n",
       "\n",
       "  intake_condition      intake_type sex_upon_intake  age_upon_intake_(years)  \\\n",
       "0           Normal            Stray   Neutered Male                     10.0   \n",
       "1           Normal    Public Assist   Neutered Male                      7.0   \n",
       "2           Normal    Public Assist   Neutered Male                      6.0   \n",
       "3           Normal  Owner Surrender   Neutered Male                     10.0   \n",
       "4          Injured    Public Assist   Neutered Male                     16.0   \n",
       "\n",
       "   intake_year  intake_number  time_in_shelter_days  \n",
       "0         2017            1.0              0.588194  \n",
       "1         2014            2.0              1.259722  \n",
       "2         2014            3.0              1.113889  \n",
       "3         2014            1.0              4.970139  \n",
       "4         2013            1.0              0.119444  "
      ]
     },
     "execution_count": 7,
     "metadata": {},
     "output_type": "execute_result"
    }
   ],
   "source": [
    "columns = ['animal_type', 'intake_year', 'intake_condition', 'intake_number', 'intake_type', 'sex_upon_intake', \\\n",
    "          'age_upon_intake_(years)', 'time_in_shelter_days', 'sex_upon_outcome', 'age_upon_outcome_(years)', \\\n",
    "          'outcome_type']\n",
    "original_data = pd.read_csv(data_folder+'aac_intakes_outcomes.csv', usecols=columns)\n",
    "original_data.head()"
   ]
  },
  {
   "cell_type": "code",
   "execution_count": 22,
   "metadata": {
    "tags": []
   },
   "outputs": [],
   "source": [
    "# set random seed\n",
    "seed = 42\n",
    "np.random.seed(seed)"
   ]
  },
  {
   "cell_type": "code",
   "execution_count": 20,
   "metadata": {
    "tags": []
   },
   "outputs": [
    {
     "data": {
      "text/html": [
       "<div>\n",
       "<style scoped>\n",
       "    .dataframe tbody tr th:only-of-type {\n",
       "        vertical-align: middle;\n",
       "    }\n",
       "\n",
       "    .dataframe tbody tr th {\n",
       "        vertical-align: top;\n",
       "    }\n",
       "\n",
       "    .dataframe thead th {\n",
       "        text-align: right;\n",
       "    }\n",
       "</style>\n",
       "<table border=\"1\" class=\"dataframe\">\n",
       "  <thead>\n",
       "    <tr style=\"text-align: right;\">\n",
       "      <th></th>\n",
       "      <th>outcome_type</th>\n",
       "      <th>sex_upon_outcome</th>\n",
       "      <th>age_upon_outcome_(years)</th>\n",
       "      <th>animal_type</th>\n",
       "      <th>intake_condition</th>\n",
       "      <th>intake_type</th>\n",
       "      <th>sex_upon_intake</th>\n",
       "      <th>age_upon_intake_(years)</th>\n",
       "      <th>intake_year</th>\n",
       "      <th>intake_number</th>\n",
       "      <th>time_in_shelter_days</th>\n",
       "    </tr>\n",
       "  </thead>\n",
       "  <tbody>\n",
       "    <tr>\n",
       "      <th>0</th>\n",
       "      <td>0</td>\n",
       "      <td>0</td>\n",
       "      <td>2.709408</td>\n",
       "      <td>0</td>\n",
       "      <td>0</td>\n",
       "      <td>0</td>\n",
       "      <td>0</td>\n",
       "      <td>2.727906</td>\n",
       "      <td>1.200104</td>\n",
       "      <td>1.0</td>\n",
       "      <td>-0.387947</td>\n",
       "    </tr>\n",
       "    <tr>\n",
       "      <th>1</th>\n",
       "      <td>0</td>\n",
       "      <td>0</td>\n",
       "      <td>1.674938</td>\n",
       "      <td>0</td>\n",
       "      <td>0</td>\n",
       "      <td>1</td>\n",
       "      <td>0</td>\n",
       "      <td>1.690967</td>\n",
       "      <td>-1.102049</td>\n",
       "      <td>2.0</td>\n",
       "      <td>-0.371836</td>\n",
       "    </tr>\n",
       "    <tr>\n",
       "      <th>2</th>\n",
       "      <td>0</td>\n",
       "      <td>0</td>\n",
       "      <td>1.330114</td>\n",
       "      <td>0</td>\n",
       "      <td>0</td>\n",
       "      <td>1</td>\n",
       "      <td>0</td>\n",
       "      <td>1.345321</td>\n",
       "      <td>-1.102049</td>\n",
       "      <td>3.0</td>\n",
       "      <td>-0.375335</td>\n",
       "    </tr>\n",
       "    <tr>\n",
       "      <th>3</th>\n",
       "      <td>0</td>\n",
       "      <td>0</td>\n",
       "      <td>2.709408</td>\n",
       "      <td>0</td>\n",
       "      <td>0</td>\n",
       "      <td>2</td>\n",
       "      <td>0</td>\n",
       "      <td>2.727906</td>\n",
       "      <td>-1.102049</td>\n",
       "      <td>1.0</td>\n",
       "      <td>-0.282819</td>\n",
       "    </tr>\n",
       "    <tr>\n",
       "      <th>4</th>\n",
       "      <td>0</td>\n",
       "      <td>0</td>\n",
       "      <td>4.778349</td>\n",
       "      <td>0</td>\n",
       "      <td>1</td>\n",
       "      <td>1</td>\n",
       "      <td>0</td>\n",
       "      <td>4.801783</td>\n",
       "      <td>-1.869433</td>\n",
       "      <td>1.0</td>\n",
       "      <td>-0.399193</td>\n",
       "    </tr>\n",
       "  </tbody>\n",
       "</table>\n",
       "</div>"
      ],
      "text/plain": [
       "  outcome_type  sex_upon_outcome  age_upon_outcome_(years)  animal_type  \\\n",
       "0            0                 0                  2.709408            0   \n",
       "1            0                 0                  1.674938            0   \n",
       "2            0                 0                  1.330114            0   \n",
       "3            0                 0                  2.709408            0   \n",
       "4            0                 0                  4.778349            0   \n",
       "\n",
       "   intake_condition  intake_type  sex_upon_intake  age_upon_intake_(years)  \\\n",
       "0                 0            0                0                 2.727906   \n",
       "1                 0            1                0                 1.690967   \n",
       "2                 0            1                0                 1.345321   \n",
       "3                 0            2                0                 2.727906   \n",
       "4                 1            1                0                 4.801783   \n",
       "\n",
       "   intake_year  intake_number  time_in_shelter_days  \n",
       "0     1.200104            1.0             -0.387947  \n",
       "1    -1.102049            2.0             -0.371836  \n",
       "2    -1.102049            3.0             -0.375335  \n",
       "3    -1.102049            1.0             -0.282819  \n",
       "4    -1.869433            1.0             -0.399193  "
      ]
     },
     "execution_count": 20,
     "metadata": {},
     "output_type": "execute_result"
    }
   ],
   "source": [
    "# preprocess data\n",
    "data = original_data.dropna(how='any', axis=0)\n",
    "\n",
    "adopted = data[\"outcome_type\"]==\"Adoption\"\n",
    "data.loc[adopted, [\"outcome_type\"]] = 1\n",
    "data.loc[~adopted, [\"outcome_type\"]] = 0\n",
    "\n",
    "def encode(df, columns):\n",
    "    df_encode = df.copy()\n",
    "    mapping = []\n",
    "    for column in columns:\n",
    "        encode_column, uniques = pd.factorize(df_encode[column])\n",
    "        df_encode[column] = encode_column\n",
    "        mapping.append(uniques)\n",
    "    return df_encode, mapping\n",
    "\n",
    "columns_encode = ['animal_type', 'intake_condition', 'intake_type', 'sex_upon_intake', 'sex_upon_outcome']\n",
    "data, mapping = encode(data, columns_encode)\n",
    "\n",
    "def standardize(df, columns):\n",
    "    df_std = df.copy()\n",
    "    for column in columns:\n",
    "        df_std[column] = (df_std[column] - df_std[column].mean()) / df_std[column].std()\n",
    "    return df_std\n",
    "\n",
    "columns_std = ['intake_year', 'age_upon_intake_(years)', 'time_in_shelter_days', 'age_upon_outcome_(years)']\n",
    "data = standardize(data, columns_std)\n",
    "data.head()"
   ]
  },
  {
   "cell_type": "code",
   "execution_count": 69,
   "metadata": {
    "tags": []
   },
   "outputs": [
    {
     "name": "stdout",
     "output_type": "stream",
     "text": [
      "Number of samples in train set: 63728\n",
      "Number of samples in test set: 15933\n"
     ]
    }
   ],
   "source": [
    "# train-test split\n",
    "train_size = int(0.8 * len(data))\n",
    "ind = np.arange(len(data))\n",
    "train_ind = np.random.choice(ind, size=train_size, replace=False)\n",
    "test_ind = ind[~np.isin(ind, train_ind)]\n",
    "train_dataset, test_dataset = data.iloc[train_ind], data.iloc[test_ind]\n",
    "print(f\"Number of samples in train set: {len(train_dataset)}\")\n",
    "print(f\"Number of samples in test set: {len(test_dataset)}\")\n",
    "\n",
    "X = list(set(columns) - set([\"outcome_type\"]))\n",
    "train_X, train_y = train_dataset[X].to_numpy(np.float32), train_dataset[\"outcome_type\"].to_numpy(np.uint8)\n",
    "test_X, test_y = test_dataset[X].to_numpy(np.float32), test_dataset[\"outcome_type\"].to_numpy(np.uint8)"
   ]
  },
  {
   "cell_type": "markdown",
   "metadata": {},
   "source": [
    "### B) Train a logistic regression classifier on your training set. Logistic regression returns probabilities as predictions, so in order to arrive at a binary prediction, you need to put a threshold on the predicted probabilities. \n",
    "- For the decision threshold of 0.5, present the performance of your classifier on the test set by displaying the confusion matrix. Based on the confusion matrix, manually calculate accuracy, precision, recall, and F1-score with respect to the positive and the negative class. "
   ]
  },
  {
   "cell_type": "code",
   "execution_count": 71,
   "metadata": {
    "tags": []
   },
   "outputs": [],
   "source": [
    "# training and testing\n",
    "model = LogisticRegression(random_state=seed)\n",
    "model = model.fit(train_X, train_y)\n",
    "test_ypred = model.predict(test_X)"
   ]
  },
  {
   "cell_type": "code",
   "execution_count": 72,
   "metadata": {
    "tags": []
   },
   "outputs": [
    {
     "name": "stdout",
     "output_type": "stream",
     "text": [
      "precision: 0.75\n",
      "recall: 0.67\n",
      "f1-score: 0.71\n",
      "accuracy: 0.77\n"
     ]
    }
   ],
   "source": [
    "# metrics\n",
    "from sklearn.metrics import confusion_matrix\n",
    "\n",
    "cm = confusion_matrix(test_y, test_ypred)\n",
    "\n",
    "def calc_metrics(cm):\n",
    "    tn = cm[0, 0]\n",
    "    fn = cm[1, 0]\n",
    "    fp = cm[0, 1]\n",
    "    tp = cm[1, 1]\n",
    "    \n",
    "    p = tp / (tp + fp)\n",
    "    r = tp / (tp + fn)\n",
    "    f1 = 2 / (1/p + 1/r)\n",
    "    acc = (tp + tn) / (tp + fp + tn + fn)\n",
    "    \n",
    "    metrics = {\n",
    "        \"precision\": p,\n",
    "        \"recall\": r,\n",
    "        \"f1-score\": f1,\n",
    "        \"accuracy\": acc\n",
    "    }\n",
    "    return metrics\n",
    "\n",
    "metrics = calc_metrics(cm)\n",
    "for k, v in metrics.items():\n",
    "    print(\"{}: {:.2f}\".format(k, v))"
   ]
  },
  {
   "cell_type": "markdown",
   "metadata": {},
   "source": [
    "### C) Vary the value of the threshold in the range from 0 to 1 and visualize the value of accuracy, precision, recall, and F1-score (with respect to both classes) as a function of the threshold."
   ]
  },
  {
   "cell_type": "code",
   "execution_count": 90,
   "metadata": {
    "tags": []
   },
   "outputs": [
    {
     "data": {
      "image/png": "[encoded data removed]",
      "text/plain": [
       "<Figure size 640x480 with 4 Axes>"
      ]
     },
     "metadata": {},
     "output_type": "display_data"
    }
   ],
   "source": [
    "from collections import defaultdict\n",
    "\n",
    "prob = model.predict_proba(test_X)\n",
    "\n",
    "def calc_metrics_from_prob(prob, thresh):\n",
    "    metrics = defaultdict(list)\n",
    "    test_ypred = np.array([1 if p > thresh else 0 for p in prob])\n",
    "    cm = confusion_matrix(test_y, test_ypred)\n",
    "    metrics = calc_metrics(cm)\n",
    "    return metrics\n",
    "\n",
    "all_metrics_0, all_metrics_1 = defaultdict(list), defaultdict(list)\n",
    "thresholds = np.arange(0, 1, 0.1)\n",
    "for thresh in thresholds:\n",
    "    metrics_0 = calc_metrics_from_prob(prob[:, 0], thresh)\n",
    "    metrics_1 = calc_metrics_from_prob(prob[:, 1], thresh)\n",
    "    for k, v in metrics_0.items():\n",
    "        all_metrics_0[k].append(v)\n",
    "    for k, v in metrics_1.items():\n",
    "        all_metrics_1[k].append(v)\n",
    "\n",
    "fig, axs = plt.subplots(2, 2, sharex=True, sharey=True)\n",
    "for i, item in enumerate(all_metrics_0.items()):\n",
    "    axs[i//2, i%2].plot(thresholds, item[1], label=\"Not adopted\")\n",
    "    axs[i//2, i%2].set_xlabel(\"threshold\")\n",
    "    axs[i//2, i%2].set_ylabel(item[0])\n",
    "for i, item in enumerate(all_metrics_1.items()):\n",
    "    axs[i//2, i%2].plot(thresholds, item[1], label=\"Adopted\")\n",
    "    axs[i//2, i%2].legend(loc=\"upper left\")\n",
    "plt.show()"
   ]
  },
  {
   "cell_type": "markdown",
   "metadata": {},
   "source": [
    "### D) Plot in a bar chart the coefficients of the logistic regression sorted by their contribution to the prediction."
   ]
  },
  {
   "cell_type": "code",
   "execution_count": 96,
   "metadata": {
    "tags": []
   },
   "outputs": [
    {
     "data": {
      "image/png": "[encoded data removed]",
      "text/plain": [
       "<Figure size 400x300 with 1 Axes>"
      ]
     },
     "metadata": {},
     "output_type": "display_data"
    }
   ],
   "source": [
    "coeff = {k:v for k, v in zip(X, model.coef_[0])}\n",
    "coeff = sorted(coeff.items(), key=lambda x: -x[1])\n",
    "coeff = {k:v for k, v in coeff}\n",
    "\n",
    "plt.figure(figsize=(4, 3))\n",
    "plt.bar(coeff.keys(), coeff.values())\n",
    "plt.xticks(rotation=90)\n",
    "plt.show()"
   ]
  },
  {
   "cell_type": "markdown",
   "metadata": {},
   "source": [
    "\n",
    "## Question 1: Which of the following metrics is most suitable when you are dealing with unbalanced classes?\n",
    "\n",
    "- a) F1 Score\n",
    "- b) Recall\n",
    "- c) Precision\n",
    "- d) Accuracy"
   ]
  },
  {
   "cell_type": "markdown",
   "metadata": {
    "jupyter": {
     "outputs_hidden": true
    }
   },
   "source": [
    "**Answer:** d)"
   ]
  },
  {
   "cell_type": "markdown",
   "metadata": {},
   "source": [
    "## Question 2: You are working on a binary classification problem. You trained a model on a training dataset and got the following confusion matrix on the test dataset. What is true about the evaluation metrics (rounded to the second decimal point):\n",
    "\n",
    "|            | Pred = NO|Pred=YES|\n",
    "|------------|----------|--------|\n",
    "| Actual NO  |    50    |   10   |\n",
    "| Actual YES |    5     |   100  |\n",
    "\n",
    "- a) Accuracy is 0.95\n",
    "- b) Accuracy is 0.85\n",
    "- c) False positive rate is 0.95\n",
    "- d) True positive rate is 0.95"
   ]
  },
  {
   "cell_type": "markdown",
   "metadata": {},
   "source": [
    "**Answer:** d)"
   ]
  }
 ],
 "metadata": {
  "kernelspec": {
   "display_name": "Python 3 (ipykernel)",
   "language": "python",
   "name": "python3"
  },
  "language_info": {
   "codemirror_mode": {
    "name": "ipython",
    "version": 3
   },
   "file_extension": ".py",
   "mimetype": "text/x-python",
   "name": "python",
   "nbconvert_exporter": "python",
   "pygments_lexer": "ipython3",
   "version": "3.9.18"
  },
  "varInspector": {
   "cols": {
    "lenName": 16,
    "lenType": 16,
    "lenVar": 40
   },
   "kernels_config": {
    "python": {
     "delete_cmd_postfix": "",
     "delete_cmd_prefix": "del ",
     "library": "var_list.py",
     "varRefreshCmd": "print(var_dic_list())"
    },
    "r": {
     "delete_cmd_postfix": ") ",
     "delete_cmd_prefix": "rm(",
     "library": "var_list.r",
     "varRefreshCmd": "cat(var_dic_list()) "
    }
   },
   "types_to_exclude": [
    "module",
    "function",
    "builtin_function_or_method",
    "instance",
    "_Feature"
   ],
   "window_display": false
  }
 },
 "nbformat": 4,
 "nbformat_minor": 4
}
