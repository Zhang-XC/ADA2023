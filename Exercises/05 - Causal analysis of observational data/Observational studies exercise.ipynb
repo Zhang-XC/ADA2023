{
 "cells": [
  {
   "cell_type": "markdown",
   "metadata": {},
   "source": [
    "### Welcome to the exercise about observational studies! This exercise will be hands on, and you will be able to practise the skills you developed so far!"
   ]
  },
  {
   "cell_type": "markdown",
   "metadata": {},
   "source": [
    "## Propensity score matching\n",
    "\n",
    "In this exercise, you will apply [propensity score matching](http://www.stewartschultz.com/statistics/books/Design%20of%20observational%20studies.pdf), which we discussed in lecture 6 (\"Observational studies\"), in order to draw conclusions from an observational study.\n",
    "\n",
    "We will work with a by-now classic dataset from Robert LaLonde's study \"[Evaluating the Econometric Evaluations of Training Programs](http://people.hbs.edu/nashraf/LaLonde_1986.pdf)\" (1986).\n",
    "The study investigated the effect of a job training program (\"National Supported Work Demonstration\") on the real earnings of an individual, a couple of years after completion of the program.\n",
    "Your task is to determine the effectiveness of the \"treatment\" represented by the job training program."
   ]
  },
  {
   "cell_type": "markdown",
   "metadata": {},
   "source": [
    "#### Dataset description\n",
    "\n",
    "- `treat`: 1 if the subject participated in the job training program, 0 otherwise\n",
    "- `age`: the subject's age\n",
    "- `educ`: years of education\n",
    "- `race`: categorical variable with three possible values: Black, Hispanic, or White\n",
    "- `married`: 1 if the subject was married at the time of the training program, 0 otherwise\n",
    "- `nodegree`: 1 if the subject has earned no school degree, 0 otherwise\n",
    "- `re74`: real earnings in 1974 (pre-treatment)\n",
    "- `re75`: real earnings in 1975 (pre-treatment)\n",
    "- `re78`: real earnings in 1978 (outcome)"
   ]
  },
  {
   "cell_type": "markdown",
   "metadata": {},
   "source": [
    "If you want to deepen your knowledge on propensity scores and observational studies, we highly recommend Rosenbaum's excellent book on the [\"Design of Observational Studies\"](http://www.stewartschultz.com/statistics/books/Design%20of%20observational%20studies.pdf). Even just reading the first chapter (18 pages) will help you a lot."
   ]
  },
  {
   "cell_type": "code",
   "execution_count": 12,
   "metadata": {
    "tags": []
   },
   "outputs": [],
   "source": [
    "import pandas as pd\n",
    "import numpy as np\n",
    "import matplotlib.pyplot as plt\n",
    "import seaborn as sns\n",
    "import networkx as nx\n",
    "%matplotlib inline\n",
    "\n",
    "data_folder = './data/'\n",
    "df = pd.read_csv(data_folder + 'lalonde.csv')"
   ]
  },
  {
   "cell_type": "code",
   "execution_count": 2,
   "metadata": {
    "tags": []
   },
   "outputs": [
    {
     "data": {
      "text/html": [
       "<div>\n",
       "<style scoped>\n",
       "    .dataframe tbody tr th:only-of-type {\n",
       "        vertical-align: middle;\n",
       "    }\n",
       "\n",
       "    .dataframe tbody tr th {\n",
       "        vertical-align: top;\n",
       "    }\n",
       "\n",
       "    .dataframe thead th {\n",
       "        text-align: right;\n",
       "    }\n",
       "</style>\n",
       "<table border=\"1\" class=\"dataframe\">\n",
       "  <thead>\n",
       "    <tr style=\"text-align: right;\">\n",
       "      <th></th>\n",
       "      <th>id</th>\n",
       "      <th>treat</th>\n",
       "      <th>age</th>\n",
       "      <th>educ</th>\n",
       "      <th>black</th>\n",
       "      <th>hispan</th>\n",
       "      <th>married</th>\n",
       "      <th>nodegree</th>\n",
       "      <th>re74</th>\n",
       "      <th>re75</th>\n",
       "      <th>re78</th>\n",
       "    </tr>\n",
       "  </thead>\n",
       "  <tbody>\n",
       "    <tr>\n",
       "      <th>402</th>\n",
       "      <td>PSID218</td>\n",
       "      <td>0</td>\n",
       "      <td>17</td>\n",
       "      <td>9</td>\n",
       "      <td>1</td>\n",
       "      <td>0</td>\n",
       "      <td>0</td>\n",
       "      <td>1</td>\n",
       "      <td>0.000</td>\n",
       "      <td>981.0968</td>\n",
       "      <td>8900.347</td>\n",
       "    </tr>\n",
       "    <tr>\n",
       "      <th>289</th>\n",
       "      <td>PSID105</td>\n",
       "      <td>0</td>\n",
       "      <td>21</td>\n",
       "      <td>12</td>\n",
       "      <td>0</td>\n",
       "      <td>0</td>\n",
       "      <td>0</td>\n",
       "      <td>0</td>\n",
       "      <td>2827.222</td>\n",
       "      <td>4056.8710</td>\n",
       "      <td>5937.505</td>\n",
       "    </tr>\n",
       "    <tr>\n",
       "      <th>371</th>\n",
       "      <td>PSID187</td>\n",
       "      <td>0</td>\n",
       "      <td>18</td>\n",
       "      <td>11</td>\n",
       "      <td>1</td>\n",
       "      <td>0</td>\n",
       "      <td>0</td>\n",
       "      <td>1</td>\n",
       "      <td>1191.234</td>\n",
       "      <td>1478.8060</td>\n",
       "      <td>3683.972</td>\n",
       "    </tr>\n",
       "    <tr>\n",
       "      <th>520</th>\n",
       "      <td>PSID336</td>\n",
       "      <td>0</td>\n",
       "      <td>20</td>\n",
       "      <td>13</td>\n",
       "      <td>0</td>\n",
       "      <td>0</td>\n",
       "      <td>0</td>\n",
       "      <td>0</td>\n",
       "      <td>1657.540</td>\n",
       "      <td>0.0000</td>\n",
       "      <td>913.235</td>\n",
       "    </tr>\n",
       "    <tr>\n",
       "      <th>39</th>\n",
       "      <td>NSW40</td>\n",
       "      <td>1</td>\n",
       "      <td>24</td>\n",
       "      <td>10</td>\n",
       "      <td>1</td>\n",
       "      <td>0</td>\n",
       "      <td>0</td>\n",
       "      <td>1</td>\n",
       "      <td>0.000</td>\n",
       "      <td>0.0000</td>\n",
       "      <td>0.000</td>\n",
       "    </tr>\n",
       "    <tr>\n",
       "      <th>399</th>\n",
       "      <td>PSID215</td>\n",
       "      <td>0</td>\n",
       "      <td>35</td>\n",
       "      <td>10</td>\n",
       "      <td>0</td>\n",
       "      <td>0</td>\n",
       "      <td>1</td>\n",
       "      <td>1</td>\n",
       "      <td>4964.782</td>\n",
       "      <td>1086.7260</td>\n",
       "      <td>1745.195</td>\n",
       "    </tr>\n",
       "    <tr>\n",
       "      <th>75</th>\n",
       "      <td>NSW76</td>\n",
       "      <td>1</td>\n",
       "      <td>25</td>\n",
       "      <td>11</td>\n",
       "      <td>0</td>\n",
       "      <td>0</td>\n",
       "      <td>0</td>\n",
       "      <td>1</td>\n",
       "      <td>0.000</td>\n",
       "      <td>0.0000</td>\n",
       "      <td>18783.350</td>\n",
       "    </tr>\n",
       "    <tr>\n",
       "      <th>570</th>\n",
       "      <td>PSID386</td>\n",
       "      <td>0</td>\n",
       "      <td>20</td>\n",
       "      <td>12</td>\n",
       "      <td>1</td>\n",
       "      <td>0</td>\n",
       "      <td>0</td>\n",
       "      <td>0</td>\n",
       "      <td>0.000</td>\n",
       "      <td>0.0000</td>\n",
       "      <td>11594.240</td>\n",
       "    </tr>\n",
       "    <tr>\n",
       "      <th>123</th>\n",
       "      <td>NSW124</td>\n",
       "      <td>1</td>\n",
       "      <td>27</td>\n",
       "      <td>13</td>\n",
       "      <td>0</td>\n",
       "      <td>0</td>\n",
       "      <td>1</td>\n",
       "      <td>0</td>\n",
       "      <td>9381.566</td>\n",
       "      <td>853.7225</td>\n",
       "      <td>0.000</td>\n",
       "    </tr>\n",
       "    <tr>\n",
       "      <th>250</th>\n",
       "      <td>PSID66</td>\n",
       "      <td>0</td>\n",
       "      <td>26</td>\n",
       "      <td>8</td>\n",
       "      <td>0</td>\n",
       "      <td>1</td>\n",
       "      <td>0</td>\n",
       "      <td>1</td>\n",
       "      <td>3168.134</td>\n",
       "      <td>5872.2580</td>\n",
       "      <td>11136.150</td>\n",
       "    </tr>\n",
       "  </tbody>\n",
       "</table>\n",
       "</div>"
      ],
      "text/plain": [
       "          id  treat  age  educ  black  hispan  married  nodegree      re74  \\\n",
       "402  PSID218      0   17     9      1       0        0         1     0.000   \n",
       "289  PSID105      0   21    12      0       0        0         0  2827.222   \n",
       "371  PSID187      0   18    11      1       0        0         1  1191.234   \n",
       "520  PSID336      0   20    13      0       0        0         0  1657.540   \n",
       "39     NSW40      1   24    10      1       0        0         1     0.000   \n",
       "399  PSID215      0   35    10      0       0        1         1  4964.782   \n",
       "75     NSW76      1   25    11      0       0        0         1     0.000   \n",
       "570  PSID386      0   20    12      1       0        0         0     0.000   \n",
       "123   NSW124      1   27    13      0       0        1         0  9381.566   \n",
       "250   PSID66      0   26     8      0       1        0         1  3168.134   \n",
       "\n",
       "          re75       re78  \n",
       "402   981.0968   8900.347  \n",
       "289  4056.8710   5937.505  \n",
       "371  1478.8060   3683.972  \n",
       "520     0.0000    913.235  \n",
       "39      0.0000      0.000  \n",
       "399  1086.7260   1745.195  \n",
       "75      0.0000  18783.350  \n",
       "570     0.0000  11594.240  \n",
       "123   853.7225      0.000  \n",
       "250  5872.2580  11136.150  "
      ]
     },
     "execution_count": 2,
     "metadata": {},
     "output_type": "execute_result"
    }
   ],
   "source": [
    "df.sample(10)"
   ]
  },
  {
   "cell_type": "markdown",
   "metadata": {},
   "source": [
    "## 1. A naive analysis\n",
    "\n",
    "Compare the distribution of the outcome variable (`re78`) between the two groups, using plots and numbers.\n",
    "To summarize and compare the distributions, you may use the techniques we discussed in lecture 4 (\"Descibing data\") and 3 (\"Visualizing data\").\n",
    "\n",
    "What might a naive \"researcher\" conclude from this superficial analysis?"
   ]
  },
  {
   "cell_type": "code",
   "execution_count": 3,
   "metadata": {
    "tags": []
   },
   "outputs": [
    {
     "data": {
      "image/png": "[encoded data removed]",
      "text/plain": [
       "<Figure size 400x300 with 1 Axes>"
      ]
     },
     "metadata": {},
     "output_type": "display_data"
    }
   ],
   "source": [
    "def plot_re78(df):\n",
    "    plt.figure(figsize=(4, 3))\n",
    "    sns.boxplot(data=df)\n",
    "    plt.xlabel(\"\")\n",
    "    plt.ylabel(\"real earnings in 1978\")\n",
    "    ticks, _ = plt.xticks()\n",
    "    plt.xticks(ticks=ticks, labels=[\"control\", \"treated\"])\n",
    "    plt.show()\n",
    "\n",
    "data = df[[\"id\", \"treat\", \"re78\"]].pivot(index=\"id\", columns=\"treat\", values=\"re78\")\n",
    "plot_re78(data)"
   ]
  },
  {
   "cell_type": "markdown",
   "metadata": {},
   "source": [
    "**Interpretation:** The boxplot shows a lower median and range for the treated group. It may lead to the conclusion that the treatment has no positive effects."
   ]
  },
  {
   "cell_type": "markdown",
   "metadata": {},
   "source": [
    "## 2. A closer look at the data\n",
    "\n",
    "You're not naive, of course (and even if you are, you've learned certain things in ADA), so you aren't content with a superficial analysis such as the above.\n",
    "You're aware of the dangers of observational studies, so you take a closer look at the data before jumping to conclusions.\n",
    "\n",
    "For each feature in the dataset, compare its distribution in the treated group with its distribution in the control group, using plots and numbers.\n",
    "As above, you may use the techniques we discussed in class for summarizing and comparing the distributions.\n",
    "\n",
    "What do you observe?\n",
    "Describe what your observations mean for the conclusions drawn by the naive \"researcher\" from his superficial analysis."
   ]
  },
  {
   "cell_type": "code",
   "execution_count": 4,
   "metadata": {
    "tags": []
   },
   "outputs": [
    {
     "data": {
      "image/png": "[encoded data removed]",
      "text/plain": [
       "<Figure size 640x480 with 4 Axes>"
      ]
     },
     "metadata": {},
     "output_type": "display_data"
    }
   ],
   "source": [
    "features = ['age', 'educ', 're74', 're75']\n",
    "\n",
    "def plot_features(df, features):\n",
    "    fig, axs = plt.subplots(2, 2)\n",
    "    for i in range(axs.shape[0]):\n",
    "        for j in range(axs.shape[1]):\n",
    "            feature = features[i*axs.shape[1] + j]\n",
    "            data = df[[\"id\", \"treat\", feature]].pivot(index=\"id\", columns=\"treat\", values=feature)\n",
    "            sns.boxplot(data=data, ax=axs[i, j])\n",
    "            axs[i, j].set_xlabel(\"\")\n",
    "            axs[i, j].set_ylabel(feature)\n",
    "            axs[i, j].set_xticklabels([\"control\", \"treated\"])\n",
    "    plt.tight_layout()\n",
    "    plt.show()\n",
    "\n",
    "plot_features(df, features)"
   ]
  },
  {
   "cell_type": "code",
   "execution_count": 5,
   "metadata": {
    "tags": []
   },
   "outputs": [
    {
     "name": "stdout",
     "output_type": "stream",
     "text": [
      "Mean percentages in treated and control groups:\n"
     ]
    },
    {
     "data": {
      "text/html": [
       "<div>\n",
       "<style scoped>\n",
       "    .dataframe tbody tr th:only-of-type {\n",
       "        vertical-align: middle;\n",
       "    }\n",
       "\n",
       "    .dataframe tbody tr th {\n",
       "        vertical-align: top;\n",
       "    }\n",
       "\n",
       "    .dataframe thead th {\n",
       "        text-align: right;\n",
       "    }\n",
       "</style>\n",
       "<table border=\"1\" class=\"dataframe\">\n",
       "  <thead>\n",
       "    <tr style=\"text-align: right;\">\n",
       "      <th></th>\n",
       "      <th>treated</th>\n",
       "      <th>control</th>\n",
       "    </tr>\n",
       "  </thead>\n",
       "  <tbody>\n",
       "    <tr>\n",
       "      <th>hispan</th>\n",
       "      <td>5.95</td>\n",
       "      <td>14.22</td>\n",
       "    </tr>\n",
       "    <tr>\n",
       "      <th>black</th>\n",
       "      <td>84.32</td>\n",
       "      <td>20.28</td>\n",
       "    </tr>\n",
       "    <tr>\n",
       "      <th>married</th>\n",
       "      <td>18.92</td>\n",
       "      <td>51.28</td>\n",
       "    </tr>\n",
       "    <tr>\n",
       "      <th>nodegree</th>\n",
       "      <td>70.81</td>\n",
       "      <td>59.67</td>\n",
       "    </tr>\n",
       "  </tbody>\n",
       "</table>\n",
       "</div>"
      ],
      "text/plain": [
       "          treated  control\n",
       "hispan       5.95    14.22\n",
       "black       84.32    20.28\n",
       "married     18.92    51.28\n",
       "nodegree    70.81    59.67"
      ]
     },
     "metadata": {},
     "output_type": "display_data"
    }
   ],
   "source": [
    "def get_group_stats(df, labels, group):\n",
    "    stats = []\n",
    "    for label in labels:\n",
    "        stats.append(100 * df[label].sum() / len(df))\n",
    "    return pd.DataFrame(stats, index=labels, columns=[group])\n",
    "\n",
    "def print_stats(df, labels):\n",
    "    treated = df.groupby(\"treat\").get_group(1)\n",
    "    control = df.groupby(\"treat\").get_group(0)\n",
    "\n",
    "    print(\"Mean percentages in treated and control groups:\")\n",
    "    display(pd.concat([get_group_stats(treated, labels, \"treated\"),\n",
    "                       get_group_stats(control, labels, \"control\")],\n",
    "                       axis=1).round(decimals=2))\n",
    "    \n",
    "labels = [\"hispan\", \"black\", \"married\", \"nodegree\"]\n",
    "print_stats(df, labels)"
   ]
  },
  {
   "cell_type": "markdown",
   "metadata": {},
   "source": [
    "**Interpretation:** The covariates in the treated and control groups are unbalanced. They could have been confounders when assessing the causal effect between the treatment and the changes in real earnings."
   ]
  },
  {
   "cell_type": "markdown",
   "metadata": {},
   "source": [
    "## 3. A propensity score model\n",
    "\n",
    "Use logistic regression to estimate propensity scores for all points in the dataset.\n",
    "You may use `statsmodels` to fit the logistic regression model and apply it to each data point to obtain propensity scores.\n",
    "\n",
    "Recall that the propensity score of a data point represents its probability of receiving the treatment, based on its pre-treatment features (in this case, age, education, pre-treatment income, etc.).\n",
    "To brush up on propensity scores, you may read chapter 3.3 of the above-cited book by Rosenbaum or [this article](https://www.ncbi.nlm.nih.gov/pmc/articles/PMC3144483/pdf/hmbr46-399.pdf).\n",
    "\n",
    "Note: you do not need a train/test split here. Train and apply the model on the entire dataset. If you're wondering why this is the right thing to do in this situation, recall that the propensity score model is not used in order to make predictions about unseen data. Its sole purpose is to balance the dataset across treatment groups.\n",
    "(See p. 74 of Rosenbaum's book for an explanation why slight overfitting is even good for propensity scores.\n",
    "If you want even more information, read [this article](https://www.ncbi.nlm.nih.gov/pmc/articles/PMC3144483/pdf/hmbr46-399.pdf).)"
   ]
  },
  {
   "cell_type": "code",
   "execution_count": 14,
   "metadata": {},
   "outputs": [
    {
     "name": "stdout",
     "output_type": "stream",
     "text": [
      "Optimization terminated successfully.\n",
      "         Current function value: 0.397267\n",
      "         Iterations 7\n",
      "                           Logit Regression Results                           \n",
      "==============================================================================\n",
      "Dep. Variable:                  treat   No. Observations:                  614\n",
      "Model:                          Logit   Df Residuals:                      605\n",
      "Method:                           MLE   Df Model:                            8\n",
      "Date:                Fri, 10 Nov 2023   Pseudo R-squ.:                  0.3508\n",
      "Time:                        14:39:55   Log-Likelihood:                -243.92\n",
      "converged:                       True   LL-Null:                       -375.75\n",
      "Covariance Type:            nonrobust   LLR p-value:                 2.194e-52\n",
      "==============================================================================\n",
      "                 coef    std err          z      P>|z|      [0.025      0.975]\n",
      "------------------------------------------------------------------------------\n",
      "Intercept     -2.8509      0.350     -8.147      0.000      -3.537      -2.165\n",
      "age            0.1559      0.134      1.162      0.245      -0.107       0.419\n",
      "educ           0.4240      0.171      2.477      0.013       0.088       0.759\n",
      "black          3.0654      0.287     10.698      0.000       2.504       3.627\n",
      "hispan         0.9836      0.426      2.311      0.021       0.149       1.818\n",
      "married       -0.8321      0.290     -2.866      0.004      -1.401      -0.263\n",
      "nodegree       0.7073      0.338      2.095      0.036       0.045       1.369\n",
      "re74          -0.4650      0.186     -2.497      0.013      -0.830      -0.100\n",
      "re75           0.1761      0.153      1.153      0.249      -0.123       0.476\n",
      "==============================================================================\n"
     ]
    }
   ],
   "source": [
    "import statsmodels.api as sm\n",
    "import statsmodels.formula.api as smf\n",
    "\n",
    "\"\"\"\n",
    "Correction: Standardize continuous variables\n",
    "\"\"\"\n",
    "def standardize(df, features):\n",
    "    for feature in features:\n",
    "        df[feature] = (df[feature] - df[feature].mean()) / df[feature].std()\n",
    "    return df\n",
    "df = standardize(df, features)\n",
    "\n",
    "mod = smf.logit(formula='treat ~ age + educ + black + hispan + married + nodegree + re74 + re75', data=df)\n",
    "res = mod.fit()\n",
    "print(res.summary())"
   ]
  },
  {
   "cell_type": "code",
   "execution_count": 15,
   "metadata": {
    "tags": []
   },
   "outputs": [
    {
     "data": {
      "text/plain": [
       "0    0.638770\n",
       "1    0.224634\n",
       "2    0.678244\n",
       "3    0.776324\n",
       "4    0.701639\n",
       "dtype: float64"
      ]
     },
     "execution_count": 15,
     "metadata": {},
     "output_type": "execute_result"
    }
   ],
   "source": [
    "scores = res.predict(df.drop([\"id\", \"re78\", \"treat\"], axis=1))\n",
    "scores.head()"
   ]
  },
  {
   "cell_type": "markdown",
   "metadata": {},
   "source": [
    "## 4. Balancing the dataset via matching\n",
    "\n",
    "Use the propensity scores to match each data point from the treated group with exactly one data point from the     treated = df.groupby(\"treat\").get_group(1)\n",
    "    control = df.groupby(\"treat\").get_group(0)control group, while ensuring that each data point from the control group is matched with at most one data point from the treated group.\n",
    "(Hint: you may explore the `networkx` package in Python for predefined matching functions.)\n",
    "\n",
    "Your matching should maximize the similarity between matched subjects, as captured by their propensity scores.\n",
    "In other words, the sum (over all matched pairs) of absolute propensity-score differences between the two matched subjects should be minimized.\n",
    "\n",
    "This is how networkx library can help you do this. Each possible pair of (treated_person, control_person) is characterized by a similarity. This is how we can initialize a graph, and add an edge for one possible pair. We then need to add an edge for each possible pair.\n",
    "\n",
    "    G = nx.Graph()\n",
    "    G.add_weighted_edges_from([(control_person, treated_person, similarity)])\n",
    "    \n",
    "Optimal matching is then found with:\n",
    "    \n",
    "    matching = nx.max_weight_matching(G)\n",
    "\n",
    "After matching, you have as many treated as you have control subjects.\n",
    "Compare the outcomes (`re78`) between the two groups (treated and control).\n",
    "\n",
    "Also, compare again the feature-value distributions between the two groups, as you've done in part 2 above, but now only for the matched subjects.\n",
    "What do you observe?\n",
    "Are you closer to being able to draw valid conclusions now than you were before?"
   ]
  },
  {
   "cell_type": "code",
   "execution_count": 17,
   "metadata": {
    "tags": []
   },
   "outputs": [],
   "source": [
    "treated = df.groupby(\"treat\").get_group(1)\n",
    "control = df.groupby(\"treat\").get_group(0)"
   ]
  },
  {
   "cell_type": "code",
   "execution_count": 37,
   "metadata": {},
   "outputs": [],
   "source": [
    "G = nx.Graph()\n",
    "for i in control.index:\n",
    "    for j in treated.index:\n",
    "        similarity = 1 - np.abs(scores.loc[i] - scores.loc[j])\n",
    "        G.add_weighted_edges_from([(i, j, similarity)])\n",
    "matching = nx.max_weight_matching(G)"
   ]
  },
  {
   "cell_type": "code",
   "execution_count": 47,
   "metadata": {
    "tags": []
   },
   "outputs": [],
   "source": [
    "control_ind = [inds[0] for inds in matching]\n",
    "treated_ind = [inds[1] for inds in matching]\n",
    "assert not set(control_ind).intersection(set(treated_ind))\n",
    "\n",
    "new_control = df.loc[control_ind]\n",
    "new_treated = df.loc[treated_ind]\n",
    "\n",
    "new_df = df.copy()\n",
    "new_index = set(new_df.index) - set(control_ind) - set(treated_ind)\n",
    "new_df = new_df.drop(new_index, axis=0)"
   ]
  },
  {
   "cell_type": "code",
   "execution_count": 48,
   "metadata": {
    "tags": []
   },
   "outputs": [
    {
     "data": {
      "image/png": "[encoded data removed]",
      "text/plain": [
       "<Figure size 640x480 with 4 Axes>"
      ]
     },
     "metadata": {},
     "output_type": "display_data"
    }
   ],
   "source": [
    "plot_features(new_df, features)"
   ]
  },
  {
   "cell_type": "code",
   "execution_count": 57,
   "metadata": {
    "tags": []
   },
   "outputs": [
    {
     "name": "stdout",
     "output_type": "stream",
     "text": [
      "Mean percentages in treated and control groups:\n"
     ]
    },
    {
     "data": {
      "text/html": [
       "<div>\n",
       "<style scoped>\n",
       "    .dataframe tbody tr th:only-of-type {\n",
       "        vertical-align: middle;\n",
       "    }\n",
       "\n",
       "    .dataframe tbody tr th {\n",
       "        vertical-align: top;\n",
       "    }\n",
       "\n",
       "    .dataframe thead th {\n",
       "        text-align: right;\n",
       "    }\n",
       "</style>\n",
       "<table border=\"1\" class=\"dataframe\">\n",
       "  <thead>\n",
       "    <tr style=\"text-align: right;\">\n",
       "      <th></th>\n",
       "      <th>treated</th>\n",
       "      <th>control</th>\n",
       "    </tr>\n",
       "  </thead>\n",
       "  <tbody>\n",
       "    <tr>\n",
       "      <th>hispan</th>\n",
       "      <td>5.95</td>\n",
       "      <td>21.62</td>\n",
       "    </tr>\n",
       "    <tr>\n",
       "      <th>black</th>\n",
       "      <td>84.32</td>\n",
       "      <td>47.03</td>\n",
       "    </tr>\n",
       "    <tr>\n",
       "      <th>married</th>\n",
       "      <td>18.92</td>\n",
       "      <td>21.08</td>\n",
       "    </tr>\n",
       "    <tr>\n",
       "      <th>nodegree</th>\n",
       "      <td>70.81</td>\n",
       "      <td>63.78</td>\n",
       "    </tr>\n",
       "  </tbody>\n",
       "</table>\n",
       "</div>"
      ],
      "text/plain": [
       "          treated  control\n",
       "hispan       5.95    21.62\n",
       "black       84.32    47.03\n",
       "married     18.92    21.08\n",
       "nodegree    70.81    63.78"
      ]
     },
     "metadata": {},
     "output_type": "display_data"
    }
   ],
   "source": [
    "print_stats(new_df, labels)"
   ]
  },
  {
   "cell_type": "markdown",
   "metadata": {},
   "source": [
    "**Interpretation:** Matching improved the similarity between feature distributions of the treated and control groups. However, there is still a significant mismatch between the distributions of races."
   ]
  },
  {
   "cell_type": "markdown",
   "metadata": {},
   "source": [
    "## 5. Balancing the groups further\n",
    "\n",
    "Based on your comparison of feature-value distributions from part 4, are you fully satisfied with your matching?\n",
    "Would you say your dataset is sufficiently balanced?\n",
    "If not, in what ways could the \"balanced\" dataset you have obtained still not allow you to draw valid conclusions?\n",
    "\n",
    "Improve your matching by explicitly making sure that you match only subjects that have the same value for the problematic feature.\n",
    "Argue with numbers and plots that the two groups (treated and control) are now better balanced than after part 4.\n"
   ]
  },
  {
   "cell_type": "code",
   "execution_count": 68,
   "metadata": {},
   "outputs": [],
   "source": [
    "filt_df = new_df.copy()\n",
    "drop_ind = []\n",
    "for i, j in zip(control_ind, treated_ind):\n",
    "    if filt_df.loc[i][\"black\"] != filt_df.loc[j][\"black\"]:\n",
    "        filt_df = filt_df.drop(i, axis=0).drop(j, axis=0)"
   ]
  },
  {
   "cell_type": "code",
   "execution_count": 19,
   "metadata": {
    "tags": []
   },
   "outputs": [],
   "source": [
    "\"\"\"\n",
    "Correction: Add an edge iff the pair have the same races\n",
    "\"\"\"\n",
    "G = nx.Graph()\n",
    "for i in control.index:\n",
    "    for j in treated.index:\n",
    "        if (control.loc[i]['black'] == treated.loc[j]['black'])\\\n",
    "            and (control.loc[i]['hispan'] == treated.loc[j]['hispan']):\n",
    "            similarity = 1 - np.abs(scores.loc[i] - scores.loc[j])\n",
    "            G.add_weighted_edges_from([(i, j, similarity)])\n",
    "matching = nx.max_weight_matching(G)\n",
    "\n",
    "control_ind = [inds[0] for inds in matching]\n",
    "treated_ind = [inds[1] for inds in matching]\n",
    "assert not set(control_ind).intersection(set(treated_ind))\n",
    "\n",
    "filt_control = df.loc[control_ind]\n",
    "filt_treated = df.loc[treated_ind]\n",
    "\n",
    "filt_df = df.copy()\n",
    "filt_index = set(filt_df.index) - set(control_ind) - set(treated_ind)\n",
    "filt_df = filt_df.drop(filt_index, axis=0)"
   ]
  },
  {
   "cell_type": "code",
   "execution_count": 20,
   "metadata": {
    "tags": []
   },
   "outputs": [
    {
     "data": {
      "image/png": "[encoded data removed]",
      "text/plain": [
       "<Figure size 640x480 with 4 Axes>"
      ]
     },
     "metadata": {},
     "output_type": "display_data"
    }
   ],
   "source": [
    "plot_features(filt_df, features)"
   ]
  },
  {
   "cell_type": "code",
   "execution_count": 21,
   "metadata": {
    "tags": []
   },
   "outputs": [
    {
     "name": "stdout",
     "output_type": "stream",
     "text": [
      "Mean percentages in treated and control groups:\n"
     ]
    },
    {
     "data": {
      "text/html": [
       "<div>\n",
       "<style scoped>\n",
       "    .dataframe tbody tr th:only-of-type {\n",
       "        vertical-align: middle;\n",
       "    }\n",
       "\n",
       "    .dataframe tbody tr th {\n",
       "        vertical-align: top;\n",
       "    }\n",
       "\n",
       "    .dataframe thead th {\n",
       "        text-align: right;\n",
       "    }\n",
       "</style>\n",
       "<table border=\"1\" class=\"dataframe\">\n",
       "  <thead>\n",
       "    <tr style=\"text-align: right;\">\n",
       "      <th></th>\n",
       "      <th>treated</th>\n",
       "      <th>control</th>\n",
       "    </tr>\n",
       "  </thead>\n",
       "  <tbody>\n",
       "    <tr>\n",
       "      <th>hispan</th>\n",
       "      <td>9.48</td>\n",
       "      <td>9.48</td>\n",
       "    </tr>\n",
       "    <tr>\n",
       "      <th>black</th>\n",
       "      <td>75.00</td>\n",
       "      <td>75.00</td>\n",
       "    </tr>\n",
       "    <tr>\n",
       "      <th>married</th>\n",
       "      <td>24.14</td>\n",
       "      <td>27.59</td>\n",
       "    </tr>\n",
       "    <tr>\n",
       "      <th>nodegree</th>\n",
       "      <td>67.24</td>\n",
       "      <td>62.07</td>\n",
       "    </tr>\n",
       "  </tbody>\n",
       "</table>\n",
       "</div>"
      ],
      "text/plain": [
       "          treated  control\n",
       "hispan       9.48     9.48\n",
       "black       75.00    75.00\n",
       "married     24.14    27.59\n",
       "nodegree    67.24    62.07"
      ]
     },
     "metadata": {},
     "output_type": "display_data"
    }
   ],
   "source": [
    "print_stats(filt_df, labels)"
   ]
  },
  {
   "cell_type": "markdown",
   "metadata": {},
   "source": [
    "**Interpretation:** The balance of race distributions between the two groups is improved at the expense of an increased discrepancy of age distributions."
   ]
  },
  {
   "cell_type": "markdown",
   "metadata": {},
   "source": [
    "## 6. A less naive analysis\n",
    "\n",
    "Compare the outcomes (`re78`) between treated and control subjects, as you've done in part 1, but now only for the matched dataset you've obtained from part 5.\n",
    "What do you conclude about the effectiveness of the job training program?"
   ]
  },
  {
   "cell_type": "code",
   "execution_count": 22,
   "metadata": {
    "tags": []
   },
   "outputs": [
    {
     "data": {
      "image/png": "[encoded data removed]",
      "text/plain": [
       "<Figure size 400x300 with 1 Axes>"
      ]
     },
     "metadata": {},
     "output_type": "display_data"
    }
   ],
   "source": [
    "data = filt_df[[\"id\", \"treat\", \"re78\"]].pivot(index=\"id\", columns=\"treat\", values=\"re78\")\n",
    "plot_re78(data)"
   ]
  },
  {
   "cell_type": "markdown",
   "metadata": {},
   "source": [
    "**Interpretation:** The job training program has an positive effect on the participants' real earnings."
   ]
  }
 ],
 "metadata": {
  "kernelspec": {
   "display_name": "Python 3 (ipykernel)",
   "language": "python",
   "name": "python3"
  },
  "language_info": {
   "codemirror_mode": {
    "name": "ipython",
    "version": 3
   },
   "file_extension": ".py",
   "mimetype": "text/x-python",
   "name": "python",
   "nbconvert_exporter": "python",
   "pygments_lexer": "ipython3",
   "version": "3.9.18"
  },
  "varInspector": {
   "cols": {
    "lenName": 16,
    "lenType": 16,
    "lenVar": 40
   },
   "kernels_config": {
    "python": {
     "delete_cmd_postfix": "",
     "delete_cmd_prefix": "del ",
     "library": "var_list.py",
     "varRefreshCmd": "print(var_dic_list())"
    },
    "r": {
     "delete_cmd_postfix": ") ",
     "delete_cmd_prefix": "rm(",
     "library": "var_list.r",
     "varRefreshCmd": "cat(var_dic_list()) "
    }
   },
   "types_to_exclude": [
    "module",
    "function",
    "builtin_function_or_method",
    "instance",
    "_Feature"
   ],
   "window_display": false
  }
 },
 "nbformat": 4,
 "nbformat_minor": 4
}
